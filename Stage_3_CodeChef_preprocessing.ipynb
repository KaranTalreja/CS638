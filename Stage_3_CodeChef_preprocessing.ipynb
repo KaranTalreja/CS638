{
 "cells": [
  {
   "cell_type": "markdown",
   "metadata": {},
   "source": [
    "# Stage 3 - Blocking\n",
    "## Step 0: Import Required Packages\n",
    "Below is a list of the python packages we used while preforming Stage 3 of the project."
   ]
  },
  {
   "cell_type": "code",
   "execution_count": 1,
   "metadata": {
    "collapsed": false
   },
   "outputs": [],
   "source": [
    "import json\n",
    "import pandas as pd\n",
    "import re\n",
    "import numpy as np\n",
    "from datetime import datetime\n",
    "import matplotlib.pyplot as plt\n",
    "from urllib2 import urlopen\n",
    "%matplotlib inline"
   ]
  },
  {
   "cell_type": "markdown",
   "metadata": {},
   "source": [
    "## Step 1: Load & Prepare Data\n",
    "In this step we will __load__ our data into the python notebook and __manipulate__ the data so that it is in a format that is appropriate in order to analyze each attribute."
   ]
  },
  {
   "cell_type": "code",
   "execution_count": 2,
   "metadata": {
    "collapsed": false
   },
   "outputs": [],
   "source": [
    "# Links to .CSV tables on Github\n",
    "table_spoj = \"https://raw.githubusercontent.com/KaranTalreja/CS638/master/codechef/data/\\\n",
    "codechef_problems.csv?token=ADx7Wd73yjTKkRvntaZDePwq1Y_KhzLVks5YMHvTwA%3D%3D\"\n",
    "\n",
    "# Load table to Pandas dataframe\n",
    "table_A = pd.read_csv(urlopen(table_spoj))"
   ]
  },
  {
   "cell_type": "code",
   "execution_count": 3,
   "metadata": {
    "collapsed": false
   },
   "outputs": [
    {
     "data": {
      "text/html": [
       "<div>\n",
       "<table border=\"1\" class=\"dataframe\">\n",
       "  <thead>\n",
       "    <tr style=\"text-align: right;\">\n",
       "      <th></th>\n",
       "      <th>time_limit</th>\n",
       "      <th>source_limit</th>\n",
       "      <th>description</th>\n",
       "      <th>index</th>\n",
       "      <th>input_text</th>\n",
       "      <th>title</th>\n",
       "      <th>problem_code</th>\n",
       "      <th>success_count</th>\n",
       "      <th>submissions_page</th>\n",
       "      <th>link</th>\n",
       "      <th>...</th>\n",
       "      <th>editorial_page</th>\n",
       "      <th>tags/0</th>\n",
       "      <th>tags/1</th>\n",
       "      <th>tags/2</th>\n",
       "      <th>tags/3</th>\n",
       "      <th>accuracy</th>\n",
       "      <th>tags/4</th>\n",
       "      <th>tags/5</th>\n",
       "      <th>tags/6</th>\n",
       "      <th>tags/7</th>\n",
       "    </tr>\n",
       "  </thead>\n",
       "  <tbody>\n",
       "    <tr>\n",
       "      <th>0</th>\n",
       "      <td>3 sec</td>\n",
       "      <td>50000 Bytes</td>\n",
       "      <td>Chef is working as a programmer. His job sched...</td>\n",
       "      <td>0</td>\n",
       "      <td>The first line of each test case contains thre...</td>\n",
       "      <td>Chef and Job and Rest</td>\n",
       "      <td>CHEFJR</td>\n",
       "      <td>4</td>\n",
       "      <td>https://www.codechef.com/status/CHEFJR?sort_by...</td>\n",
       "      <td>https://www.codechef.com/problems/CHEFJR</td>\n",
       "      <td>...</td>\n",
       "      <td>http://discuss.codechef.com/problems/CHEFJR</td>\n",
       "      <td>berezin</td>\n",
       "      <td>challenge</td>\n",
       "      <td>feb16</td>\n",
       "      <td>greedy</td>\n",
       "      <td>41.18</td>\n",
       "      <td>NaN</td>\n",
       "      <td>NaN</td>\n",
       "      <td>NaN</td>\n",
       "      <td>NaN</td>\n",
       "    </tr>\n",
       "    <tr>\n",
       "      <th>1</th>\n",
       "      <td>8 sec</td>\n",
       "      <td>50000 Bytes</td>\n",
       "      <td>The Chef has recently sold a number of his ama...</td>\n",
       "      <td>20</td>\n",
       "      <td>The first line contains a single positive inte...</td>\n",
       "      <td>The Amazing All-In-One Cooking Machine - Chall...</td>\n",
       "      <td>ALLINONE</td>\n",
       "      <td>14</td>\n",
       "      <td>https://www.codechef.com/status/ALLINONE?sort_...</td>\n",
       "      <td>https://www.codechef.com/problems/ALLINONE</td>\n",
       "      <td>...</td>\n",
       "      <td>http://discuss.codechef.com/problems/ALLINONE</td>\n",
       "      <td>challenge</td>\n",
       "      <td>friggstad</td>\n",
       "      <td>march11</td>\n",
       "      <td>NaN</td>\n",
       "      <td>70.45</td>\n",
       "      <td>NaN</td>\n",
       "      <td>NaN</td>\n",
       "      <td>NaN</td>\n",
       "      <td>NaN</td>\n",
       "    </tr>\n",
       "  </tbody>\n",
       "</table>\n",
       "<p>2 rows × 22 columns</p>\n",
       "</div>"
      ],
      "text/plain": [
       "  time_limit source_limit                                        description  \\\n",
       "0      3 sec  50000 Bytes  Chef is working as a programmer. His job sched...   \n",
       "1      8 sec  50000 Bytes  The Chef has recently sold a number of his ama...   \n",
       "\n",
       "   index                                         input_text  \\\n",
       "0      0  The first line of each test case contains thre...   \n",
       "1     20  The first line contains a single positive inte...   \n",
       "\n",
       "                                               title problem_code  \\\n",
       "0                              Chef and Job and Rest       CHEFJR   \n",
       "1  The Amazing All-In-One Cooking Machine - Chall...     ALLINONE   \n",
       "\n",
       "   success_count                                   submissions_page  \\\n",
       "0              4  https://www.codechef.com/status/CHEFJR?sort_by...   \n",
       "1             14  https://www.codechef.com/status/ALLINONE?sort_...   \n",
       "\n",
       "                                         link  ...    \\\n",
       "0    https://www.codechef.com/problems/CHEFJR  ...     \n",
       "1  https://www.codechef.com/problems/ALLINONE  ...     \n",
       "\n",
       "                                  editorial_page     tags/0     tags/1  \\\n",
       "0    http://discuss.codechef.com/problems/CHEFJR    berezin  challenge   \n",
       "1  http://discuss.codechef.com/problems/ALLINONE  challenge  friggstad   \n",
       "\n",
       "    tags/2  tags/3 accuracy tags/4  tags/5 tags/6 tags/7  \n",
       "0    feb16  greedy    41.18    NaN     NaN    NaN    NaN  \n",
       "1  march11     NaN    70.45    NaN     NaN    NaN    NaN  \n",
       "\n",
       "[2 rows x 22 columns]"
      ]
     },
     "execution_count": 3,
     "metadata": {},
     "output_type": "execute_result"
    }
   ],
   "source": [
    "table_A.head(2)"
   ]
  },
  {
   "cell_type": "markdown",
   "metadata": {},
   "source": [
    "__Step 1.2:__ Manipulate Table Format & Select 10 Attributes"
   ]
  },
  {
   "cell_type": "code",
   "execution_count": 4,
   "metadata": {
    "collapsed": false
   },
   "outputs": [],
   "source": [
    "# \"DateAdded\" attribute as type datetime\n",
    "def str_to_datetime(df):\n",
    "    try:\n",
    "        return datetime.strptime(df[\"date_added\"], \"%d-%m-%Y\")\n",
    "    except:\n",
    "        pass\n",
    "\n",
    "table_A[\"date_added\"] = table_A.apply(str_to_datetime, axis=1)"
   ]
  },
  {
   "cell_type": "markdown",
   "metadata": {},
   "source": [
    "__Step 1.3:__ Rename attributes"
   ]
  },
  {
   "cell_type": "code",
   "execution_count": 5,
   "metadata": {
    "collapsed": false
   },
   "outputs": [],
   "source": [
    "table_A[\"title\"] = table_A[\"problem_code\"]\n",
    "table_A[\"input\"] = table_A[\"input_text\"]\n",
    "table_A[\"output\"] = table_A[\"output_text\"]"
   ]
  },
  {
   "cell_type": "markdown",
   "metadata": {},
   "source": [
    "__Step 1.5:__ Process filed \"date_added\" to create new field \"days_added\".\n",
    "This field contains the number of days since the problem has been added. This will be\n",
    "further used to caculate the number of people who solve this problem per day. This would\n",
    "be used as an indicator to the level of difficulty of this problem and would help in\n",
    "blocking."
   ]
  },
  {
   "cell_type": "code",
   "execution_count": 8,
   "metadata": {
    "collapsed": false
   },
   "outputs": [],
   "source": [
    "now = datetime.strptime(\"2016-11-01\", \"%Y-%m-%d\")\n",
    "def process_date_added(df):\n",
    "    try:\n",
    "        if False == pd.isnull(df[\"date_added\"]):\n",
    "            return np.timedelta64((now - df[\"date_added\"]), 'D').astype(float)\n",
    "        else:\n",
    "            return -1\n",
    "    except:\n",
    "        pass\n",
    "    \n",
    "table_A[\"days_added\"] = table_A.apply(process_date_added, axis=1)"
   ]
  },
  {
   "cell_type": "markdown",
   "metadata": {},
   "source": [
    "__Step 1.6:__ Process field \"solved_by\" and \"days_added\" to create new field \"solve_rate\""
   ]
  },
  {
   "cell_type": "code",
   "execution_count": 9,
   "metadata": {
    "collapsed": false
   },
   "outputs": [
    {
     "data": {
      "text/html": [
       "<div>\n",
       "<table border=\"1\" class=\"dataframe\">\n",
       "  <thead>\n",
       "    <tr style=\"text-align: right;\">\n",
       "      <th></th>\n",
       "      <th>time_limit</th>\n",
       "      <th>source_limit</th>\n",
       "      <th>description</th>\n",
       "      <th>index</th>\n",
       "      <th>input_text</th>\n",
       "      <th>title</th>\n",
       "      <th>problem_code</th>\n",
       "      <th>success_count</th>\n",
       "      <th>submissions_page</th>\n",
       "      <th>link</th>\n",
       "      <th>...</th>\n",
       "      <th>tags/3</th>\n",
       "      <th>accuracy</th>\n",
       "      <th>tags/4</th>\n",
       "      <th>tags/5</th>\n",
       "      <th>tags/6</th>\n",
       "      <th>tags/7</th>\n",
       "      <th>input</th>\n",
       "      <th>output</th>\n",
       "      <th>days_added</th>\n",
       "      <th>solve_rate</th>\n",
       "    </tr>\n",
       "  </thead>\n",
       "  <tbody>\n",
       "    <tr>\n",
       "      <th>0</th>\n",
       "      <td>3 sec</td>\n",
       "      <td>50000 Bytes</td>\n",
       "      <td>Chef is working as a programmer. His job sched...</td>\n",
       "      <td>0</td>\n",
       "      <td>The first line of each test case contains thre...</td>\n",
       "      <td>CHEFJR</td>\n",
       "      <td>CHEFJR</td>\n",
       "      <td>4</td>\n",
       "      <td>https://www.codechef.com/status/CHEFJR?sort_by...</td>\n",
       "      <td>https://www.codechef.com/problems/CHEFJR</td>\n",
       "      <td>...</td>\n",
       "      <td>greedy</td>\n",
       "      <td>41.18</td>\n",
       "      <td>NaN</td>\n",
       "      <td>NaN</td>\n",
       "      <td>NaN</td>\n",
       "      <td>NaN</td>\n",
       "      <td>The first line of each test case contains thre...</td>\n",
       "      <td>For each rest period, output a single line. Th...</td>\n",
       "      <td>779.0</td>\n",
       "      <td>0.005135</td>\n",
       "    </tr>\n",
       "    <tr>\n",
       "      <th>1</th>\n",
       "      <td>8 sec</td>\n",
       "      <td>50000 Bytes</td>\n",
       "      <td>The Chef has recently sold a number of his ama...</td>\n",
       "      <td>20</td>\n",
       "      <td>The first line contains a single positive inte...</td>\n",
       "      <td>ALLINONE</td>\n",
       "      <td>ALLINONE</td>\n",
       "      <td>14</td>\n",
       "      <td>https://www.codechef.com/status/ALLINONE?sort_...</td>\n",
       "      <td>https://www.codechef.com/problems/ALLINONE</td>\n",
       "      <td>...</td>\n",
       "      <td>NaN</td>\n",
       "      <td>70.45</td>\n",
       "      <td>NaN</td>\n",
       "      <td>NaN</td>\n",
       "      <td>NaN</td>\n",
       "      <td>NaN</td>\n",
       "      <td>The first line contains a single positive inte...</td>\n",
       "      <td>For each test case you are to output a permuta...</td>\n",
       "      <td>2094.0</td>\n",
       "      <td>0.006686</td>\n",
       "    </tr>\n",
       "  </tbody>\n",
       "</table>\n",
       "<p>2 rows × 26 columns</p>\n",
       "</div>"
      ],
      "text/plain": [
       "  time_limit source_limit                                        description  \\\n",
       "0      3 sec  50000 Bytes  Chef is working as a programmer. His job sched...   \n",
       "1      8 sec  50000 Bytes  The Chef has recently sold a number of his ama...   \n",
       "\n",
       "   index                                         input_text     title  \\\n",
       "0      0  The first line of each test case contains thre...    CHEFJR   \n",
       "1     20  The first line contains a single positive inte...  ALLINONE   \n",
       "\n",
       "  problem_code  success_count  \\\n",
       "0       CHEFJR              4   \n",
       "1     ALLINONE             14   \n",
       "\n",
       "                                    submissions_page  \\\n",
       "0  https://www.codechef.com/status/CHEFJR?sort_by...   \n",
       "1  https://www.codechef.com/status/ALLINONE?sort_...   \n",
       "\n",
       "                                         link    ...      tags/3 accuracy  \\\n",
       "0    https://www.codechef.com/problems/CHEFJR    ...      greedy    41.18   \n",
       "1  https://www.codechef.com/problems/ALLINONE    ...         NaN    70.45   \n",
       "\n",
       "  tags/4 tags/5 tags/6 tags/7  \\\n",
       "0    NaN    NaN    NaN    NaN   \n",
       "1    NaN    NaN    NaN    NaN   \n",
       "\n",
       "                                               input  \\\n",
       "0  The first line of each test case contains thre...   \n",
       "1  The first line contains a single positive inte...   \n",
       "\n",
       "                                              output days_added solve_rate  \n",
       "0  For each rest period, output a single line. Th...      779.0   0.005135  \n",
       "1  For each test case you are to output a permuta...     2094.0   0.006686  \n",
       "\n",
       "[2 rows x 26 columns]"
      ]
     },
     "execution_count": 9,
     "metadata": {},
     "output_type": "execute_result"
    }
   ],
   "source": [
    "def create_solve_rate(df):\n",
    "    try:\n",
    "        return df[\"success_count\"]/df[\"days_added\"]\n",
    "    except:\n",
    "        pass\n",
    "    \n",
    "table_A[\"solve_rate\"] = table_A.apply(create_solve_rate, axis=1)\n",
    "table_A.head(2)"
   ]
  },
  {
   "cell_type": "markdown",
   "metadata": {},
   "source": [
    "__Step 1.7:__ Drop \"solved_by\", \"days_added\" and \"date_added\" fields"
   ]
  },
  {
   "cell_type": "code",
   "execution_count": 10,
   "metadata": {
    "collapsed": false
   },
   "outputs": [
    {
     "data": {
      "text/html": [
       "<div>\n",
       "<table border=\"1\" class=\"dataframe\">\n",
       "  <thead>\n",
       "    <tr style=\"text-align: right;\">\n",
       "      <th></th>\n",
       "      <th>title</th>\n",
       "      <th>description</th>\n",
       "      <th>input</th>\n",
       "      <th>output</th>\n",
       "      <th>solve_rate</th>\n",
       "    </tr>\n",
       "  </thead>\n",
       "  <tbody>\n",
       "    <tr>\n",
       "      <th>0</th>\n",
       "      <td>CHEFJR</td>\n",
       "      <td>Chef is working as a programmer. His job sched...</td>\n",
       "      <td>The first line of each test case contains thre...</td>\n",
       "      <td>For each rest period, output a single line. Th...</td>\n",
       "      <td>0.005135</td>\n",
       "    </tr>\n",
       "    <tr>\n",
       "      <th>1</th>\n",
       "      <td>ALLINONE</td>\n",
       "      <td>The Chef has recently sold a number of his ama...</td>\n",
       "      <td>The first line contains a single positive inte...</td>\n",
       "      <td>For each test case you are to output a permuta...</td>\n",
       "      <td>0.006686</td>\n",
       "    </tr>\n",
       "  </tbody>\n",
       "</table>\n",
       "</div>"
      ],
      "text/plain": [
       "      title                                        description  \\\n",
       "0    CHEFJR  Chef is working as a programmer. His job sched...   \n",
       "1  ALLINONE  The Chef has recently sold a number of his ama...   \n",
       "\n",
       "                                               input  \\\n",
       "0  The first line of each test case contains thre...   \n",
       "1  The first line contains a single positive inte...   \n",
       "\n",
       "                                              output  solve_rate  \n",
       "0  For each rest period, output a single line. Th...    0.005135  \n",
       "1  For each test case you are to output a permuta...    0.006686  "
      ]
     },
     "execution_count": 10,
     "metadata": {},
     "output_type": "execute_result"
    }
   ],
   "source": [
    "table_A = table_A[[\"title\", \"description\", \"input\",\n",
    "                   \"output\", \"solve_rate\"]]\n",
    "table_A.head(2)"
   ]
  },
  {
   "cell_type": "markdown",
   "metadata": {},
   "source": [
    "__Step 1.8:__ Plot histograms and normalize the fields \"difficulty\" and \"solve_rate\""
   ]
  },
  {
   "cell_type": "code",
   "execution_count": 11,
   "metadata": {
    "collapsed": false
   },
   "outputs": [],
   "source": [
    "# Helper function\n",
    "def myround(x, base):\n",
    "    return int(base * round(float(x)/base))\n",
    "\n",
    "def numeric_histogram(table, attribute, range=[0,0], stdev=3, bins=20):\n",
    "    values = table[attribute].astype(float)\n",
    "    if range == [0,0]:\n",
    "        range = [0, myround(values.std()*stdev, 5)]\n",
    "    plt.hist(values, bins=bins, range=range)\n",
    "    plt.title(\"%s - Histogram (%d bins)\" % (attribute, bins))\n",
    "    plt.show()\n",
    "    summary_table = pd.DataFrame()\n",
    "    summary_table[\"outliers\"] = table[attribute][values[\n",
    "            ((values - values.mean()) / values.std()).abs() > stdev\n",
    "        ].index].astype(float)\n",
    "    print(\"There are {} outliers outside of {} standard \\\n",
    "    deviations of {}.\".format(len(summary_table), stdev, attribute))\n",
    "    return summary_table.sort_values(by=\"outliers\")"
   ]
  },
  {
   "cell_type": "code",
   "execution_count": 12,
   "metadata": {
    "collapsed": false
   },
   "outputs": [
    {
     "data": {
      "image/png": "[encoded data removed]",
      "text/plain": [
       "<matplotlib.figure.Figure at 0x7fce52a35f10>"
      ]
     },
     "metadata": {},
     "output_type": "display_data"
    },
    {
     "name": "stdout",
     "output_type": "stream",
     "text": [
      "There are 5 outliers outside of 5 standard     deviations of solve_rate.\n"
     ]
    },
    {
     "data": {
      "text/html": [
       "<div>\n",
       "<table border=\"1\" class=\"dataframe\">\n",
       "  <thead>\n",
       "    <tr style=\"text-align: right;\">\n",
       "      <th></th>\n",
       "      <th>outliers</th>\n",
       "    </tr>\n",
       "  </thead>\n",
       "  <tbody>\n",
       "    <tr>\n",
       "      <th>4949</th>\n",
       "      <td>-22746.0</td>\n",
       "    </tr>\n",
       "    <tr>\n",
       "      <th>5199</th>\n",
       "      <td>-9738.0</td>\n",
       "    </tr>\n",
       "    <tr>\n",
       "      <th>3823</th>\n",
       "      <td>-2953.0</td>\n",
       "    </tr>\n",
       "    <tr>\n",
       "      <th>3826</th>\n",
       "      <td>-2776.0</td>\n",
       "    </tr>\n",
       "    <tr>\n",
       "      <th>3827</th>\n",
       "      <td>-2696.0</td>\n",
       "    </tr>\n",
       "  </tbody>\n",
       "</table>\n",
       "</div>"
      ],
      "text/plain": [
       "      outliers\n",
       "4949  -22746.0\n",
       "5199   -9738.0\n",
       "3823   -2953.0\n",
       "3826   -2776.0\n",
       "3827   -2696.0"
      ]
     },
     "execution_count": 12,
     "metadata": {},
     "output_type": "execute_result"
    }
   ],
   "source": [
    "numeric_histogram(table_A, \"solve_rate\", range=[0,1], bins=100, stdev=5)"
   ]
  },
  {
   "cell_type": "markdown",
   "metadata": {},
   "source": [
    "__Step 1.8:__ Calculate Z-score columns for \"solve_rate\" and \"difficulty\" and put them into \"solve_rate_normalized\" and \"difficulty_normalized\""
   ]
  },
  {
   "cell_type": "code",
   "execution_count": 13,
   "metadata": {
    "collapsed": false
   },
   "outputs": [
    {
     "data": {
      "text/html": [
       "<div>\n",
       "<table border=\"1\" class=\"dataframe\">\n",
       "  <thead>\n",
       "    <tr style=\"text-align: right;\">\n",
       "      <th></th>\n",
       "      <th>title</th>\n",
       "      <th>description</th>\n",
       "      <th>input</th>\n",
       "      <th>output</th>\n",
       "      <th>solve_rate</th>\n",
       "      <th>solve_rate_normalized</th>\n",
       "    </tr>\n",
       "  </thead>\n",
       "  <tbody>\n",
       "    <tr>\n",
       "      <th>0</th>\n",
       "      <td>CHEFJR</td>\n",
       "      <td>Chef is working as a programmer. His job sched...</td>\n",
       "      <td>The first line of each test case contains thre...</td>\n",
       "      <td>For each rest period, output a single line. Th...</td>\n",
       "      <td>0.005135</td>\n",
       "      <td>0.024867</td>\n",
       "    </tr>\n",
       "    <tr>\n",
       "      <th>1</th>\n",
       "      <td>ALLINONE</td>\n",
       "      <td>The Chef has recently sold a number of his ama...</td>\n",
       "      <td>The first line contains a single positive inte...</td>\n",
       "      <td>For each test case you are to output a permuta...</td>\n",
       "      <td>0.006686</td>\n",
       "      <td>0.024871</td>\n",
       "    </tr>\n",
       "  </tbody>\n",
       "</table>\n",
       "</div>"
      ],
      "text/plain": [
       "      title                                        description  \\\n",
       "0    CHEFJR  Chef is working as a programmer. His job sched...   \n",
       "1  ALLINONE  The Chef has recently sold a number of his ama...   \n",
       "\n",
       "                                               input  \\\n",
       "0  The first line of each test case contains thre...   \n",
       "1  The first line contains a single positive inte...   \n",
       "\n",
       "                                              output  solve_rate  \\\n",
       "0  For each rest period, output a single line. Th...    0.005135   \n",
       "1  For each test case you are to output a permuta...    0.006686   \n",
       "\n",
       "   solve_rate_normalized  \n",
       "0               0.024867  \n",
       "1               0.024871  "
      ]
     },
     "execution_count": 13,
     "metadata": {},
     "output_type": "execute_result"
    }
   ],
   "source": [
    "cols = [ \"solve_rate\"]\n",
    "for col in cols:\n",
    "    col_zscore = col + '_normalized'\n",
    "    table_A[col_zscore] = (table_A[col] - table_A[col].mean())/table_A[col].std(ddof=0)\n",
    "table_A.head(2)"
   ]
  },
  {
   "cell_type": "code",
   "execution_count": 14,
   "metadata": {
    "collapsed": false
   },
   "outputs": [
    {
     "data": {
      "text/html": [
       "<div>\n",
       "<table border=\"1\" class=\"dataframe\">\n",
       "  <thead>\n",
       "    <tr style=\"text-align: right;\">\n",
       "      <th></th>\n",
       "      <th>title</th>\n",
       "      <th>description</th>\n",
       "      <th>input</th>\n",
       "      <th>output</th>\n",
       "      <th>solve_rate_normalized</th>\n",
       "    </tr>\n",
       "  </thead>\n",
       "  <tbody>\n",
       "    <tr>\n",
       "      <th>0</th>\n",
       "      <td>CHEFJR</td>\n",
       "      <td>Chef is working as a programmer. His job sched...</td>\n",
       "      <td>The first line of each test case contains thre...</td>\n",
       "      <td>For each rest period, output a single line. Th...</td>\n",
       "      <td>0.024867</td>\n",
       "    </tr>\n",
       "    <tr>\n",
       "      <th>1</th>\n",
       "      <td>ALLINONE</td>\n",
       "      <td>The Chef has recently sold a number of his ama...</td>\n",
       "      <td>The first line contains a single positive inte...</td>\n",
       "      <td>For each test case you are to output a permuta...</td>\n",
       "      <td>0.024871</td>\n",
       "    </tr>\n",
       "  </tbody>\n",
       "</table>\n",
       "</div>"
      ],
      "text/plain": [
       "      title                                        description  \\\n",
       "0    CHEFJR  Chef is working as a programmer. His job sched...   \n",
       "1  ALLINONE  The Chef has recently sold a number of his ama...   \n",
       "\n",
       "                                               input  \\\n",
       "0  The first line of each test case contains thre...   \n",
       "1  The first line contains a single positive inte...   \n",
       "\n",
       "                                              output  solve_rate_normalized  \n",
       "0  For each rest period, output a single line. Th...               0.024867  \n",
       "1  For each test case you are to output a permuta...               0.024871  "
      ]
     },
     "execution_count": 14,
     "metadata": {},
     "output_type": "execute_result"
    }
   ],
   "source": [
    "table_A = table_A[[\"title\", \"description\", \"input\", \"output\", \"solve_rate_normalized\"]]\n",
    "table_A.head(2)"
   ]
  },
  {
   "cell_type": "markdown",
   "metadata": {},
   "source": [
    "__Saving CSV file for blocking stage__ : Finished preprocessing stage up till here. Now can proceed with blocking from the csv file \"spoj_blocking.csv\""
   ]
  },
  {
   "cell_type": "code",
   "execution_count": 15,
   "metadata": {
    "collapsed": true
   },
   "outputs": [],
   "source": [
    "table_A.to_csv(\"codechef/data/codechef_blocking.csv\")"
   ]
  }
 ],
 "metadata": {
  "anaconda-cloud": {},
  "kernelspec": {
   "display_name": "Python [Root]",
   "language": "python",
   "name": "Python [Root]"
  },
  "language_info": {
   "codemirror_mode": {
    "name": "ipython",
    "version": 2
   },
   "file_extension": ".py",
   "mimetype": "text/x-python",
   "name": "python",
   "nbconvert_exporter": "python",
   "pygments_lexer": "ipython2",
   "version": "2.7.12"
  }
 },
 "nbformat": 4,
 "nbformat_minor": 0
}
