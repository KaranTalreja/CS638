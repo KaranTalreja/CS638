{
 "cells": [
  {
   "cell_type": "markdown",
   "metadata": {},
   "source": [
    "# Stage 4: Matching\n",
    "## Import required packages\n"
   ]
  },
  {
   "cell_type": "code",
   "execution_count": 1,
   "metadata": {
    "collapsed": false
   },
   "outputs": [
    {
     "name": "stderr",
     "output_type": "stream",
     "text": [
      "/home/karan/anaconda2/envs/npy/lib/python2.7/site-packages/scikit_learn-0.18.1-py2.7-linux-x86_64.egg/sklearn/cross_validation.py:44: DeprecationWarning: This module was deprecated in version 0.18 in favor of the model_selection module into which all the refactored classes and functions are moved. Also note that the interface of the new CV iterators are different from that of this module. This module will be removed in 0.20.\n",
      "  \"This module will be removed in 0.20.\", DeprecationWarning)\n"
     ]
    }
   ],
   "source": [
    "# import py_entitymatching package\n",
    "import py_entitymatching as em\n",
    "import pandas as pd\n",
    "import re\n",
    "import nltk"
   ]
  },
  {
   "cell_type": "markdown",
   "metadata": {},
   "source": [
    "## Read the input tables"
   ]
  },
  {
   "cell_type": "code",
   "execution_count": 2,
   "metadata": {
    "collapsed": true
   },
   "outputs": [],
   "source": [
    "# specify filepaths for tables A and B. \n",
    "path_A = 'spoj/json/spoj_blocking.csv' # patoh_A is the file path where table_A.csv is stored\n",
    "path_B = 'codechef/data/codechef_blocking.csv' # path_B is the file path where table_B.csv is stored"
   ]
  },
  {
   "cell_type": "code",
   "execution_count": 3,
   "metadata": {
    "collapsed": false
   },
   "outputs": [
    {
     "name": "stderr",
     "output_type": "stream",
     "text": [
      "No handlers could be found for logger \"py_entitymatching.io.parsers\"\n"
     ]
    }
   ],
   "source": [
    "# read table A; table A has 'ID' as the key attribute\n",
    "A = em.read_csv_metadata(path_A)\n",
    "\n",
    "# read table B; table B has 'ID' as the key attribute\n",
    "B = em.read_csv_metadata(path_B)\n",
    "A.rename(columns={\"Unnamed: 0\":\"ID\"}, inplace=True)\n",
    "B.rename(columns={\"Unnamed: 0\":\"ID\"}, inplace=True)"
   ]
  },
  {
   "cell_type": "code",
   "execution_count": 4,
   "metadata": {
    "collapsed": true
   },
   "outputs": [],
   "source": [
    "A[\"words\"] = A[\"description\"].fillna(\"\") + A[\"input\"].fillna(\"\") + A[\"output\"].fillna(\"\")\n",
    "A = A.drop([\"description\", \"input\", \"output\"], axis=1)\n",
    "B[\"words\"] = B[\"description\"].fillna(\"\") + B[\"input\"].fillna(\"\") + B[\"output\"].fillna(\"\")\n",
    "B = B.drop([\"description\", \"input\", \"output\"], axis=1)"
   ]
  },
  {
   "cell_type": "code",
   "execution_count": 5,
   "metadata": {
    "collapsed": false
   },
   "outputs": [
    {
     "data": {
      "text/plain": [
       "True"
      ]
     },
     "execution_count": 5,
     "metadata": {},
     "output_type": "execute_result"
    }
   ],
   "source": [
    "# Step 1\n",
    "def std_words(df):\n",
    "    letters_only = re.sub(\"[^a-zA-Z]\", \" \", df[\"words\"]) # letters only, drop numbers & symbols\n",
    "    words = letters_only.lower().split() # lower case, split by word                  \n",
    "    stops = set((nltk.corpus.stopwords.words(\"english\") + \n",
    "                ['a','b','c','d','e','f','g','h','i','j','k','l','m','n',\n",
    "                'o','p','q','r','s','t','u','v','w','x','y','z'])) # general stopwords & letters  \n",
    "    meaningful_words = [w for w in words if not w in stops] # remove stopwords\n",
    "    return( \" \".join( meaningful_words)) # return re-joined string\n",
    "\n",
    "# Step 2\n",
    "A[\"words\"] = A.apply(std_words, axis=1)\n",
    "B[\"words\"] = B.apply(std_words, axis=1)\n",
    "em.set_key(A, \"ID\")\n",
    "em.set_key(B, \"ID\")"
   ]
  },
  {
   "cell_type": "markdown",
   "metadata": {},
   "source": [
    "## Read in candidate set"
   ]
  },
  {
   "cell_type": "code",
   "execution_count": 6,
   "metadata": {
    "collapsed": false
   },
   "outputs": [
    {
     "ename": "KeyError",
     "evalue": "'Input key ( _id ) not in the DataFrame'",
     "output_type": "error",
     "traceback": [
      "\u001b[0;31m---------------------------------------------------------------------------\u001b[0m",
      "\u001b[0;31mKeyError\u001b[0m                                  Traceback (most recent call last)",
      "\u001b[0;32m<ipython-input-6-03531410a3c8>\u001b[0m in \u001b[0;36m<module>\u001b[0;34m()\u001b[0m\n\u001b[1;32m      1\u001b[0m \u001b[0;31m# read C\u001b[0m\u001b[0;34m\u001b[0m\u001b[0;34m\u001b[0m\u001b[0m\n\u001b[0;32m----> 2\u001b[0;31m \u001b[0mC\u001b[0m \u001b[0;34m=\u001b[0m \u001b[0mem\u001b[0m\u001b[0;34m.\u001b[0m\u001b[0mread_csv_metadata\u001b[0m\u001b[0;34m(\u001b[0m\u001b[0;34m'candidate_set.csv'\u001b[0m\u001b[0;34m,\u001b[0m \u001b[0mltable\u001b[0m\u001b[0;34m=\u001b[0m\u001b[0mA\u001b[0m\u001b[0;34m,\u001b[0m \u001b[0mrtable\u001b[0m\u001b[0;34m=\u001b[0m\u001b[0mB\u001b[0m\u001b[0;34m)\u001b[0m\u001b[0;34m\u001b[0m\u001b[0m\n\u001b[0m",
      "\u001b[0;32m/home/karan/anaconda2/envs/npy/lib/python2.7/site-packages/py_entitymatching-0.1.0-py2.7.egg/py_entitymatching/io/parsers.pyc\u001b[0m in \u001b[0;36mread_csv_metadata\u001b[0;34m(file_path, **kwargs)\u001b[0m\n\u001b[1;32m    126\u001b[0m     \u001b[0mkey\u001b[0m \u001b[0;34m=\u001b[0m \u001b[0mmetadata\u001b[0m\u001b[0;34m.\u001b[0m\u001b[0mpop\u001b[0m\u001b[0;34m(\u001b[0m\u001b[0;34m'key'\u001b[0m\u001b[0;34m,\u001b[0m \u001b[0mNone\u001b[0m\u001b[0;34m)\u001b[0m\u001b[0;34m\u001b[0m\u001b[0m\n\u001b[1;32m    127\u001b[0m     \u001b[0;32mif\u001b[0m \u001b[0mkey\u001b[0m \u001b[0;32mis\u001b[0m \u001b[0;32mnot\u001b[0m \u001b[0mNone\u001b[0m\u001b[0;34m:\u001b[0m\u001b[0;34m\u001b[0m\u001b[0m\n\u001b[0;32m--> 128\u001b[0;31m         \u001b[0mcm\u001b[0m\u001b[0;34m.\u001b[0m\u001b[0mset_key\u001b[0m\u001b[0;34m(\u001b[0m\u001b[0mdata_frame\u001b[0m\u001b[0;34m,\u001b[0m \u001b[0mkey\u001b[0m\u001b[0;34m)\u001b[0m\u001b[0;34m\u001b[0m\u001b[0m\n\u001b[0m\u001b[1;32m    129\u001b[0m \u001b[0;34m\u001b[0m\u001b[0m\n\u001b[1;32m    130\u001b[0m     \u001b[0mfk_ltable\u001b[0m \u001b[0;34m=\u001b[0m \u001b[0mmetadata\u001b[0m\u001b[0;34m.\u001b[0m\u001b[0mpop\u001b[0m\u001b[0;34m(\u001b[0m\u001b[0;34m'fk_ltable'\u001b[0m\u001b[0;34m,\u001b[0m \u001b[0mNone\u001b[0m\u001b[0;34m)\u001b[0m\u001b[0;34m\u001b[0m\u001b[0m\n",
      "\u001b[0;32m/home/karan/anaconda2/envs/npy/lib/python2.7/site-packages/py_entitymatching-0.1.0-py2.7.egg/py_entitymatching/catalog/catalog_manager.pyc\u001b[0m in \u001b[0;36mset_key\u001b[0;34m(data_frame, key_attribute)\u001b[0m\n\u001b[1;32m    654\u001b[0m     \u001b[0;32mif\u001b[0m \u001b[0;32mnot\u001b[0m \u001b[0mch\u001b[0m\u001b[0;34m.\u001b[0m\u001b[0mcheck_attrs_present\u001b[0m\u001b[0;34m(\u001b[0m\u001b[0mdata_frame\u001b[0m\u001b[0;34m,\u001b[0m \u001b[0mkey_attribute\u001b[0m\u001b[0;34m)\u001b[0m\u001b[0;34m:\u001b[0m\u001b[0;34m\u001b[0m\u001b[0m\n\u001b[1;32m    655\u001b[0m         \u001b[0mlogger\u001b[0m\u001b[0;34m.\u001b[0m\u001b[0merror\u001b[0m\u001b[0;34m(\u001b[0m\u001b[0;34m'Input key ( %s ) not in the DataFrame'\u001b[0m \u001b[0;34m%\u001b[0m \u001b[0mkey_attribute\u001b[0m\u001b[0;34m)\u001b[0m\u001b[0;34m\u001b[0m\u001b[0m\n\u001b[0;32m--> 656\u001b[0;31m         \u001b[0;32mraise\u001b[0m \u001b[0mKeyError\u001b[0m\u001b[0;34m(\u001b[0m\u001b[0;34m'Input key ( %s ) not in the DataFrame'\u001b[0m \u001b[0;34m%\u001b[0m \u001b[0mkey_attribute\u001b[0m\u001b[0;34m)\u001b[0m\u001b[0;34m\u001b[0m\u001b[0m\n\u001b[0m\u001b[1;32m    657\u001b[0m \u001b[0;34m\u001b[0m\u001b[0m\n\u001b[1;32m    658\u001b[0m     \u001b[0;31m# Check if the key attribute satisfies the conditions to be a key. If\u001b[0m\u001b[0;34m\u001b[0m\u001b[0;34m\u001b[0m\u001b[0m\n",
      "\u001b[0;31mKeyError\u001b[0m: 'Input key ( _id ) not in the DataFrame'"
     ]
    }
   ],
   "source": [
    "# read C\n",
    "C = em.read_csv_metadata('candidate_set.csv', ltable=A, rtable=B)"
   ]
  },
  {
   "cell_type": "code",
   "execution_count": null,
   "metadata": {
    "collapsed": true
   },
   "outputs": [],
   "source": [
    "table_A = pd.read_csv(\"spoj/json/problems.csv\")\n",
    "table_B = pd.read_csv(\"codechef/data/codechef_problems.csv\")"
   ]
  },
  {
   "cell_type": "code",
   "execution_count": null,
   "metadata": {
    "collapsed": true
   },
   "outputs": [],
   "source": [
    "C[\"ltable_url\"] = table_A.loc[C.ltable_ID.values,\"url\"].values\n",
    "C[\"rtable_url\"] = table_B.loc[C.rtable_ID.values,\"link\"].values"
   ]
  },
  {
   "cell_type": "code",
   "execution_count": null,
   "metadata": {
    "collapsed": true
   },
   "outputs": [],
   "source": [
    "C.rename(inplace=True,\n",
    "         columns={\"ltable_title\":\"ltable_problem_code\",\n",
    "                  \"rtable_title\":\"rtable_problem_code\"})"
   ]
  },
  {
   "cell_type": "code",
   "execution_count": null,
   "metadata": {
    "collapsed": true
   },
   "outputs": [],
   "source": [
    "C[\"ltable_problem_title\"] = table_A.loc[C.ltable_ID.values,\"title\"].apply(lambda x:x.split(\" - \")[1]).values\n",
    "C[\"rtable_problem_title\"] = table_B.loc[C.rtable_ID.values,\"title\"].values"
   ]
  },
  {
   "cell_type": "code",
   "execution_count": null,
   "metadata": {
    "collapsed": false,
    "scrolled": true
   },
   "outputs": [],
   "source": [
    "D = C.sample(400, random_state=44)"
   ]
  },
  {
   "cell_type": "code",
   "execution_count": null,
   "metadata": {
    "collapsed": false,
    "scrolled": true
   },
   "outputs": [],
   "source": [
    "D.head()"
   ]
  },
  {
   "cell_type": "code",
   "execution_count": 7,
   "metadata": {
    "collapsed": false
   },
   "outputs": [
    {
     "ename": "NameError",
     "evalue": "name 'D' is not defined",
     "output_type": "error",
     "traceback": [
      "\u001b[0;31m---------------------------------------------------------------------------\u001b[0m",
      "\u001b[0;31mNameError\u001b[0m                                 Traceback (most recent call last)",
      "\u001b[0;32m<ipython-input-7-1445c65ce32f>\u001b[0m in \u001b[0;36m<module>\u001b[0;34m()\u001b[0m\n\u001b[0;32m----> 1\u001b[0;31m \u001b[0mD\u001b[0m\u001b[0;34m.\u001b[0m\u001b[0mloc\u001b[0m\u001b[0;34m[\u001b[0m\u001b[0;34m:\u001b[0m\u001b[0;34m,\u001b[0m\u001b[0;34m[\u001b[0m\u001b[0;34m\"ltable_url\"\u001b[0m\u001b[0;34m,\u001b[0m\u001b[0;34m\"ltable_problem_code\"\u001b[0m\u001b[0;34m,\u001b[0m\u001b[0;34m\"rtable_url\"\u001b[0m\u001b[0;34m,\u001b[0m\u001b[0;34m\"rtable_problem_code\"\u001b[0m\u001b[0;34m]\u001b[0m\u001b[0;34m]\u001b[0m\u001b[0;34m.\u001b[0m\u001b[0mto_csv\u001b[0m\u001b[0;34m(\u001b[0m\u001b[0;34m'labelled_set.csv'\u001b[0m\u001b[0;34m,\u001b[0m \u001b[0mindex\u001b[0m\u001b[0;34m=\u001b[0m\u001b[0mFalse\u001b[0m\u001b[0;34m)\u001b[0m\u001b[0;34m\u001b[0m\u001b[0m\n\u001b[0m",
      "\u001b[0;31mNameError\u001b[0m: name 'D' is not defined"
     ]
    }
   ],
   "source": [
    "D.loc[:,[\"ltable_url\",\"ltable_problem_code\",\"rtable_url\",\"rtable_problem_code\"]].to_csv('labelled_set.csv', index=False)"
   ]
  },
  {
   "cell_type": "code",
   "execution_count": null,
   "metadata": {
    "collapsed": true
   },
   "outputs": [],
   "source": []
  }
 ],
 "metadata": {
  "kernelspec": {
   "display_name": "Python 2",
   "language": "python",
   "name": "python2"
  },
  "language_info": {
   "codemirror_mode": {
    "name": "ipython",
    "version": 2
   },
   "file_extension": ".py",
   "mimetype": "text/x-python",
   "name": "python",
   "nbconvert_exporter": "python",
   "pygments_lexer": "ipython2",
   "version": "2.7.12"
  }
 },
 "nbformat": 4,
 "nbformat_minor": 1
}
