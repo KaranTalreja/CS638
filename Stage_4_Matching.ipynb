{
 "cells": [
  {
   "cell_type": "markdown",
   "metadata": {},
   "source": [
    "# Stage 4: Matching\n",
    "## Import required packages\n"
   ]
  },
  {
   "cell_type": "code",
   "execution_count": 1,
   "metadata": {
    "collapsed": false
   },
   "outputs": [
    {
     "name": "stderr",
     "output_type": "stream",
     "text": [
      "/home/karan/anaconda2/envs/npy/lib/python2.7/site-packages/scikit_learn-0.18.1-py2.7-linux-x86_64.egg/sklearn/cross_validation.py:44: DeprecationWarning: This module was deprecated in version 0.18 in favor of the model_selection module into which all the refactored classes and functions are moved. Also note that the interface of the new CV iterators are different from that of this module. This module will be removed in 0.20.\n",
      "  \"This module will be removed in 0.20.\", DeprecationWarning)\n"
     ]
    }
   ],
   "source": [
    "# import py_entitymatching package\n",
    "import py_entitymatching as em\n",
    "import pandas as pd\n",
    "import re\n",
    "import nltk"
   ]
  },
  {
   "cell_type": "markdown",
   "metadata": {},
   "source": [
    "## Read the input tables"
   ]
  },
  {
   "cell_type": "code",
   "execution_count": 2,
   "metadata": {
    "collapsed": true
   },
   "outputs": [],
   "source": [
    "# specify filepaths for tables A and B. \n",
    "path_A = 'spoj/json/spoj_blocking.csv' # patoh_A is the file path where table_A.csv is stored\n",
    "path_B = 'codechef/data/codechef_blocking.csv' # path_B is the file path where table_B.csv is stored"
   ]
  },
  {
   "cell_type": "code",
   "execution_count": 3,
   "metadata": {
    "collapsed": false
   },
   "outputs": [
    {
     "name": "stderr",
     "output_type": "stream",
     "text": [
      "No handlers could be found for logger \"py_entitymatching.io.parsers\"\n"
     ]
    }
   ],
   "source": [
    "# read table A; table A has 'ID' as the key attribute\n",
    "A = em.read_csv_metadata(path_A)\n",
    "\n",
    "# read table B; table B has 'ID' as the key attribute\n",
    "B = em.read_csv_metadata(path_B)\n",
    "A.rename(columns={\"Unnamed: 0\":\"ID\"}, inplace=True)\n",
    "B.rename(columns={\"Unnamed: 0\":\"ID\"}, inplace=True)"
   ]
  },
  {
   "cell_type": "code",
   "execution_count": 4,
   "metadata": {
    "collapsed": true
   },
   "outputs": [],
   "source": [
    "A[\"words\"] = A[\"description\"].fillna(\"\") + A[\"input\"].fillna(\"\") + A[\"output\"].fillna(\"\")\n",
    "A = A.drop([\"description\", \"input\", \"output\"], axis=1)\n",
    "B[\"words\"] = B[\"description\"].fillna(\"\") + B[\"input\"].fillna(\"\") + B[\"output\"].fillna(\"\")\n",
    "B = B.drop([\"description\", \"input\", \"output\"], axis=1)"
   ]
  },
  {
   "cell_type": "code",
   "execution_count": 5,
   "metadata": {
    "collapsed": false
   },
   "outputs": [
    {
     "data": {
      "text/plain": [
       "True"
      ]
     },
     "execution_count": 5,
     "metadata": {},
     "output_type": "execute_result"
    }
   ],
   "source": [
    "# Step 1\n",
    "def std_words(df):\n",
    "    letters_only = re.sub(\"[^a-zA-Z]\", \" \", df[\"words\"]) # letters only, drop numbers & symbols\n",
    "    words = letters_only.lower().split() # lower case, split by word                  \n",
    "    stops = set((nltk.corpus.stopwords.words(\"english\") + \n",
    "                ['a','b','c','d','e','f','g','h','i','j','k','l','m','n',\n",
    "                'o','p','q','r','s','t','u','v','w','x','y','z'])) # general stopwords & letters  \n",
    "    meaningful_words = [w for w in words if not w in stops] # remove stopwords\n",
    "    return( \" \".join( meaningful_words)) # return re-joined string\n",
    "\n",
    "# Step 2\n",
    "A[\"words\"] = A.apply(std_words, axis=1)\n",
    "B[\"words\"] = B.apply(std_words, axis=1)\n",
    "em.set_key(A, \"ID\")\n",
    "em.set_key(B, \"ID\")"
   ]
  },
  {
   "cell_type": "markdown",
   "metadata": {},
   "source": [
    "## Read in candidate set"
   ]
  },
  {
   "cell_type": "code",
   "execution_count": 6,
   "metadata": {
    "collapsed": false
   },
   "outputs": [],
   "source": [
    "# read C\n",
    "C = em.read_csv_metadata('candidate_set.csv', ltable=A, rtable=B)"
   ]
  },
  {
   "cell_type": "code",
   "execution_count": 7,
   "metadata": {
    "collapsed": true
   },
   "outputs": [],
   "source": [
    "table_A = pd.read_csv(\"spoj/json/problems.csv\")\n",
    "table_B = pd.read_csv(\"codechef/data/codechef_problems.csv\")"
   ]
  },
  {
   "cell_type": "code",
   "execution_count": 8,
   "metadata": {
    "collapsed": true
   },
   "outputs": [],
   "source": [
    "C[\"ltable_url\"] = table_A.loc[C.ltable_ID.values,\"url\"].values\n",
    "C[\"rtable_url\"] = table_B.loc[C.rtable_ID.values,\"link\"].values"
   ]
  },
  {
   "cell_type": "code",
   "execution_count": 9,
   "metadata": {
    "collapsed": false
   },
   "outputs": [],
   "source": [
    "C[\"ltable_problem_code\"] = table_A.loc[C.ltable_ID.values,\"title\"].values\n",
    "C[\"ltable_problem_code\"] = table_A.loc[C.ltable_ID.values,\"title\"].apply(lambda x: x.split(\" - \")[0]).values\n",
    "C[\"rtable_problem_code\"] = table_B.loc[C.rtable_ID.values,\"problem_code\"].values"
   ]
  },
  {
   "cell_type": "code",
   "execution_count": 10,
   "metadata": {
    "collapsed": true
   },
   "outputs": [],
   "source": [
    "C[\"ltable_problem_title\"] = table_A.loc[C.ltable_ID.values,\"title\"].apply(lambda x:x.split(\" - \")[1]).values\n",
    "C[\"rtable_problem_title\"] = table_B.loc[C.rtable_ID.values,\"title\"].values"
   ]
  },
  {
   "cell_type": "code",
   "execution_count": 11,
   "metadata": {
    "collapsed": false,
    "scrolled": true
   },
   "outputs": [],
   "source": [
    "D = C.sample(400, random_state=44)"
   ]
  },
  {
   "cell_type": "code",
   "execution_count": 12,
   "metadata": {
    "collapsed": false,
    "scrolled": true
   },
   "outputs": [
    {
     "data": {
      "text/html": [
       "<div>\n",
       "<table border=\"1\" class=\"dataframe\">\n",
       "  <thead>\n",
       "    <tr style=\"text-align: right;\">\n",
       "      <th></th>\n",
       "      <th>_id</th>\n",
       "      <th>ltable_ID</th>\n",
       "      <th>rtable_ID</th>\n",
       "      <th>ltable_url</th>\n",
       "      <th>rtable_url</th>\n",
       "      <th>ltable_problem_code</th>\n",
       "      <th>rtable_problem_code</th>\n",
       "      <th>ltable_problem_title</th>\n",
       "      <th>rtable_problem_title</th>\n",
       "    </tr>\n",
       "  </thead>\n",
       "  <tbody>\n",
       "    <tr>\n",
       "      <th>40378</th>\n",
       "      <td>40378</td>\n",
       "      <td>4204</td>\n",
       "      <td>4678</td>\n",
       "      <td>http://www.spoj.com/problems/GUESS003</td>\n",
       "      <td>https://www.codechef.com/problems/DS06</td>\n",
       "      <td>GUESS003</td>\n",
       "      <td>DS06</td>\n",
       "      <td>Guess the task III</td>\n",
       "      <td>Total Score</td>\n",
       "    </tr>\n",
       "    <tr>\n",
       "      <th>13861</th>\n",
       "      <td>13861</td>\n",
       "      <td>1404</td>\n",
       "      <td>4543</td>\n",
       "      <td>http://www.spoj.com/problems/FACTMUL</td>\n",
       "      <td>https://www.codechef.com/problems/IITK1P02</td>\n",
       "      <td>FACTMUL</td>\n",
       "      <td>IITK1P02</td>\n",
       "      <td>Product of factorials</td>\n",
       "      <td>Awesomeness of Strings</td>\n",
       "    </tr>\n",
       "    <tr>\n",
       "      <th>5325</th>\n",
       "      <td>5325</td>\n",
       "      <td>622</td>\n",
       "      <td>545</td>\n",
       "      <td>http://www.spoj.com/problems/TAP2012A</td>\n",
       "      <td>https://www.codechef.com/problems/FIN05</td>\n",
       "      <td>TAP2012A</td>\n",
       "      <td>FIN05</td>\n",
       "      <td>Awari 2</td>\n",
       "      <td>Laurel Creek</td>\n",
       "    </tr>\n",
       "    <tr>\n",
       "      <th>6912</th>\n",
       "      <td>6912</td>\n",
       "      <td>701</td>\n",
       "      <td>5305</td>\n",
       "      <td>http://www.spoj.com/problems/QN03</td>\n",
       "      <td>https://www.codechef.com/problems/SIMNIM</td>\n",
       "      <td>QN03</td>\n",
       "      <td>SIMNIM</td>\n",
       "      <td>Fan Switches</td>\n",
       "      <td>Simultaneous Nim</td>\n",
       "    </tr>\n",
       "    <tr>\n",
       "      <th>9663</th>\n",
       "      <td>9663</td>\n",
       "      <td>959</td>\n",
       "      <td>2247</td>\n",
       "      <td>http://www.spoj.com/problems/GO4DIMON</td>\n",
       "      <td>https://www.codechef.com/problems/LOC02</td>\n",
       "      <td>GO4DIMON</td>\n",
       "      <td>LOC02</td>\n",
       "      <td>GO FOR DIAMONDS</td>\n",
       "      <td>LOC Reality Show</td>\n",
       "    </tr>\n",
       "  </tbody>\n",
       "</table>\n",
       "</div>"
      ],
      "text/plain": [
       "         _id  ltable_ID  rtable_ID                             ltable_url  \\\n",
       "40378  40378       4204       4678  http://www.spoj.com/problems/GUESS003   \n",
       "13861  13861       1404       4543   http://www.spoj.com/problems/FACTMUL   \n",
       "5325    5325        622        545  http://www.spoj.com/problems/TAP2012A   \n",
       "6912    6912        701       5305      http://www.spoj.com/problems/QN03   \n",
       "9663    9663        959       2247  http://www.spoj.com/problems/GO4DIMON   \n",
       "\n",
       "                                       rtable_url ltable_problem_code  \\\n",
       "40378      https://www.codechef.com/problems/DS06            GUESS003   \n",
       "13861  https://www.codechef.com/problems/IITK1P02             FACTMUL   \n",
       "5325      https://www.codechef.com/problems/FIN05            TAP2012A   \n",
       "6912     https://www.codechef.com/problems/SIMNIM                QN03   \n",
       "9663      https://www.codechef.com/problems/LOC02            GO4DIMON   \n",
       "\n",
       "      rtable_problem_code   ltable_problem_title    rtable_problem_title  \n",
       "40378                DS06     Guess the task III             Total Score  \n",
       "13861            IITK1P02  Product of factorials  Awesomeness of Strings  \n",
       "5325                FIN05                Awari 2            Laurel Creek  \n",
       "6912               SIMNIM           Fan Switches        Simultaneous Nim  \n",
       "9663                LOC02        GO FOR DIAMONDS        LOC Reality Show  "
      ]
     },
     "execution_count": 12,
     "metadata": {},
     "output_type": "execute_result"
    }
   ],
   "source": [
    "D.head()"
   ]
  },
  {
   "cell_type": "code",
   "execution_count": 13,
   "metadata": {
    "collapsed": false
   },
   "outputs": [],
   "source": [
    "D.loc[:,[\"ltable_url\",\"ltable_problem_code\",\"rtable_url\",\"rtable_problem_code\"]].to_csv('labelled_set.csv', index=False)"
   ]
  }
 ],
 "metadata": {
  "kernelspec": {
   "display_name": "Python 2",
   "language": "python",
   "name": "python2"
  },
  "language_info": {
   "codemirror_mode": {
    "name": "ipython",
    "version": 2
   },
   "file_extension": ".py",
   "mimetype": "text/x-python",
   "name": "python",
   "nbconvert_exporter": "python",
   "pygments_lexer": "ipython2",
   "version": "2.7.12"
  }
 },
 "nbformat": 4,
 "nbformat_minor": 1
}
