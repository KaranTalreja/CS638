{
 "cells": [
  {
   "cell_type": "markdown",
   "metadata": {},
   "source": [
    "# Stage 3 - Blocking\n",
    "## Step 0: Import Required Packages\n",
    "Below is a list of the python packages we used while preforming Stage 3 of the project."
   ]
  },
  {
   "cell_type": "code",
   "execution_count": 1,
   "metadata": {
    "collapsed": true
   },
   "outputs": [],
   "source": [
    "import json\n",
    "import pandas as pd\n",
    "import re\n",
    "import numpy as np\n",
    "from datetime import datetime\n",
    "import matplotlib.pyplot as plt\n",
    "from urllib2 import urlopen\n",
    "%matplotlib inline"
   ]
  },
  {
   "cell_type": "markdown",
   "metadata": {},
   "source": [
    "## Step 1: Load & Prepare Data\n",
    "In this step we will __load__ our data into the python notebook and __manipulate__ the data so that it is in a format that is appropriate in order to analyze each attribute."
   ]
  },
  {
   "cell_type": "code",
   "execution_count": 2,
   "metadata": {
    "collapsed": false
   },
   "outputs": [],
   "source": [
    "# Links to .CSV tables on Github\n",
    "table_spoj = \"https://raw.githubusercontent.com/KaranTalreja/CS638\\\n",
    "/master/spoj/json/problems.csv?token=AD_cZSMc8KZkEiPmKmMkn2UTb6Oqs1\\\n",
    "Etks5YJip_wA%3D%3D\"\n",
    "\n",
    "# Load table to Pandas dataframe\n",
    "table_A = pd.read_csv(urlopen(table_spoj))"
   ]
  },
  {
   "cell_type": "code",
   "execution_count": 3,
   "metadata": {
    "collapsed": false
   },
   "outputs": [
    {
     "data": {
      "text/html": [
       "<div>\n",
       "<table border=\"1\" class=\"dataframe\">\n",
       "  <thead>\n",
       "    <tr style=\"text-align: right;\">\n",
       "      <th></th>\n",
       "      <th>time_limit</th>\n",
       "      <th>user_ranks</th>\n",
       "      <th>description</th>\n",
       "      <th>title</th>\n",
       "      <th>url</th>\n",
       "      <th>implementation_difficulty</th>\n",
       "      <th>concept_difficulty</th>\n",
       "      <th>languages</th>\n",
       "      <th>source_limit</th>\n",
       "      <th>solved_by</th>\n",
       "      <th>output</th>\n",
       "      <th>date_added</th>\n",
       "      <th>tags</th>\n",
       "      <th>accuracy</th>\n",
       "      <th>memory_limit</th>\n",
       "      <th>id</th>\n",
       "      <th>added_by</th>\n",
       "      <th>input</th>\n",
       "    </tr>\n",
       "  </thead>\n",
       "  <tbody>\n",
       "    <tr>\n",
       "      <th>0</th>\n",
       "      <td>10s</td>\n",
       "      <td>http://www.spoj.com/ranks/TEST</td>\n",
       "      <td>Your program is to use the brute-force appro...</td>\n",
       "      <td>TEST - Life, the Universe, and Everything</td>\n",
       "      <td>http://www.spoj.com/problems/TEST</td>\n",
       "      <td>3.0</td>\n",
       "      <td>2.0</td>\n",
       "      <td>All</td>\n",
       "      <td>50000B</td>\n",
       "      <td>100118</td>\n",
       "      <td>NaN</td>\n",
       "      <td>2004-05-01</td>\n",
       "      <td>88,4,89</td>\n",
       "      <td>32.93</td>\n",
       "      <td>1536MB</td>\n",
       "      <td>1</td>\n",
       "      <td>mima</td>\n",
       "      <td>NaN</td>\n",
       "    </tr>\n",
       "    <tr>\n",
       "      <th>1</th>\n",
       "      <td>5s</td>\n",
       "      <td>http://www.spoj.com/ranks/CMEXPR</td>\n",
       "      <td>The most important activity of ACM is the GS...</td>\n",
       "      <td>CMEXPR - Complicated Expressions</td>\n",
       "      <td>http://www.spoj.com/problems/CMEXPR</td>\n",
       "      <td>17.0</td>\n",
       "      <td>9.0</td>\n",
       "      <td>All except: NODEJS PERL 6 VB.net</td>\n",
       "      <td>50000B</td>\n",
       "      <td>655</td>\n",
       "      <td>Print asingle line for every expression. The...</td>\n",
       "      <td>2004-05-09</td>\n",
       "      <td>0</td>\n",
       "      <td>26.55</td>\n",
       "      <td>1536MB</td>\n",
       "      <td>10</td>\n",
       "      <td>adrian</td>\n",
       "      <td>There is asingle positive integer T on the f...</td>\n",
       "    </tr>\n",
       "  </tbody>\n",
       "</table>\n",
       "</div>"
      ],
      "text/plain": [
       "  time_limit                        user_ranks  \\\n",
       "0        10s    http://www.spoj.com/ranks/TEST   \n",
       "1         5s  http://www.spoj.com/ranks/CMEXPR   \n",
       "\n",
       "                                         description  \\\n",
       "0    Your program is to use the brute-force appro...   \n",
       "1    The most important activity of ACM is the GS...   \n",
       "\n",
       "                                       title  \\\n",
       "0  TEST - Life, the Universe, and Everything   \n",
       "1           CMEXPR - Complicated Expressions   \n",
       "\n",
       "                                   url  implementation_difficulty  \\\n",
       "0    http://www.spoj.com/problems/TEST                        3.0   \n",
       "1  http://www.spoj.com/problems/CMEXPR                       17.0   \n",
       "\n",
       "   concept_difficulty                         languages source_limit  \\\n",
       "0                 2.0                               All       50000B   \n",
       "1                 9.0  All except: NODEJS PERL 6 VB.net       50000B   \n",
       "\n",
       "   solved_by                                             output  date_added  \\\n",
       "0     100118                                                NaN  2004-05-01   \n",
       "1        655    Print asingle line for every expression. The...  2004-05-09   \n",
       "\n",
       "      tags  accuracy memory_limit  id added_by  \\\n",
       "0  88,4,89     32.93       1536MB   1     mima   \n",
       "1        0     26.55       1536MB  10   adrian   \n",
       "\n",
       "                                               input  \n",
       "0                                                NaN  \n",
       "1    There is asingle positive integer T on the f...  "
      ]
     },
     "execution_count": 3,
     "metadata": {},
     "output_type": "execute_result"
    }
   ],
   "source": [
    "table_A.head(2)"
   ]
  },
  {
   "cell_type": "markdown",
   "metadata": {},
   "source": [
    "__Step 1.2:__ Manipulate Table Format & Select 10 Attributes"
   ]
  },
  {
   "cell_type": "code",
   "execution_count": 4,
   "metadata": {
    "collapsed": true
   },
   "outputs": [],
   "source": [
    "# \"DateAdded\" attribute as type datetime\n",
    "def str_to_datetime(df):\n",
    "    try:\n",
    "        return datetime.strptime(df[\"date_added\"], \"%Y-%m-%d\")\n",
    "    except:\n",
    "        pass\n",
    "\n",
    "table_A[\"date_added\"] = table_A.apply(str_to_datetime, axis=1)"
   ]
  },
  {
   "cell_type": "markdown",
   "metadata": {},
   "source": [
    "__Step 1.3:__ Select 10 Attributes"
   ]
  },
  {
   "cell_type": "code",
   "execution_count": 5,
   "metadata": {
    "collapsed": false
   },
   "outputs": [
    {
     "data": {
      "text/html": [
       "<div>\n",
       "<table border=\"1\" class=\"dataframe\">\n",
       "  <thead>\n",
       "    <tr style=\"text-align: right;\">\n",
       "      <th></th>\n",
       "      <th>title</th>\n",
       "      <th>description</th>\n",
       "      <th>input</th>\n",
       "      <th>output</th>\n",
       "      <th>solved_by</th>\n",
       "      <th>date_added</th>\n",
       "      <th>difficulty</th>\n",
       "    </tr>\n",
       "  </thead>\n",
       "  <tbody>\n",
       "    <tr>\n",
       "      <th>0</th>\n",
       "      <td>TEST - Life, the Universe, and Everything</td>\n",
       "      <td>Your program is to use the brute-force appro...</td>\n",
       "      <td>NaN</td>\n",
       "      <td>NaN</td>\n",
       "      <td>100118</td>\n",
       "      <td>2004-05-01</td>\n",
       "      <td>5.0</td>\n",
       "    </tr>\n",
       "    <tr>\n",
       "      <th>1</th>\n",
       "      <td>CMEXPR - Complicated Expressions</td>\n",
       "      <td>The most important activity of ACM is the GS...</td>\n",
       "      <td>There is asingle positive integer T on the f...</td>\n",
       "      <td>Print asingle line for every expression. The...</td>\n",
       "      <td>655</td>\n",
       "      <td>2004-05-09</td>\n",
       "      <td>26.0</td>\n",
       "    </tr>\n",
       "  </tbody>\n",
       "</table>\n",
       "</div>"
      ],
      "text/plain": [
       "                                       title  \\\n",
       "0  TEST - Life, the Universe, and Everything   \n",
       "1           CMEXPR - Complicated Expressions   \n",
       "\n",
       "                                         description  \\\n",
       "0    Your program is to use the brute-force appro...   \n",
       "1    The most important activity of ACM is the GS...   \n",
       "\n",
       "                                               input  \\\n",
       "0                                                NaN   \n",
       "1    There is asingle positive integer T on the f...   \n",
       "\n",
       "                                              output  solved_by date_added  \\\n",
       "0                                                NaN     100118 2004-05-01   \n",
       "1    Print asingle line for every expression. The...        655 2004-05-09   \n",
       "\n",
       "   difficulty  \n",
       "0         5.0  \n",
       "1        26.0  "
      ]
     },
     "execution_count": 5,
     "metadata": {},
     "output_type": "execute_result"
    }
   ],
   "source": [
    "table_A = table_A[[\"title\", \"description\", \"input\",\n",
    "                   \"output\",\"solved_by\", \"implementation_difficulty\",\n",
    "                   \"concept_difficulty\", \"date_added\"]]\n",
    "\n",
    "table_A[\"difficulty\"] = table_A[\"implementation_difficulty\"] + \\\n",
    "table_A[\"concept_difficulty\"]\n",
    "\n",
    "## Bin difficulty based on percentile (beginner, easy, medium, \n",
    "## hard, challenge, N/A) Next stage...\n",
    "table_A = table_A.drop([\"implementation_difficulty\", \n",
    "                        \"concept_difficulty\"], axis=1)\n",
    "table_A.head(2)"
   ]
  },
  {
   "cell_type": "markdown",
   "metadata": {},
   "source": [
    "__Step 1.4:__ Process filed \"title\" to contain only Problem Code"
   ]
  },
  {
   "cell_type": "code",
   "execution_count": 6,
   "metadata": {
    "collapsed": false
   },
   "outputs": [],
   "source": [
    "def process_title(df):\n",
    "    try:\n",
    "        return df[\"title\"].split(\" - \")[0]\n",
    "    except:\n",
    "        pass\n",
    "\n",
    "table_A[\"title\"] = table_A.apply(process_title, axis=1)"
   ]
  },
  {
   "cell_type": "code",
   "execution_count": 7,
   "metadata": {
    "collapsed": false
   },
   "outputs": [
    {
     "data": {
      "text/html": [
       "<div>\n",
       "<table border=\"1\" class=\"dataframe\">\n",
       "  <thead>\n",
       "    <tr style=\"text-align: right;\">\n",
       "      <th></th>\n",
       "      <th>title</th>\n",
       "      <th>description</th>\n",
       "      <th>input</th>\n",
       "      <th>output</th>\n",
       "      <th>solved_by</th>\n",
       "      <th>date_added</th>\n",
       "      <th>difficulty</th>\n",
       "    </tr>\n",
       "  </thead>\n",
       "  <tbody>\n",
       "    <tr>\n",
       "      <th>0</th>\n",
       "      <td>TEST</td>\n",
       "      <td>Your program is to use the brute-force appro...</td>\n",
       "      <td>NaN</td>\n",
       "      <td>NaN</td>\n",
       "      <td>100118</td>\n",
       "      <td>2004-05-01</td>\n",
       "      <td>5.0</td>\n",
       "    </tr>\n",
       "    <tr>\n",
       "      <th>1</th>\n",
       "      <td>CMEXPR</td>\n",
       "      <td>The most important activity of ACM is the GS...</td>\n",
       "      <td>There is asingle positive integer T on the f...</td>\n",
       "      <td>Print asingle line for every expression. The...</td>\n",
       "      <td>655</td>\n",
       "      <td>2004-05-09</td>\n",
       "      <td>26.0</td>\n",
       "    </tr>\n",
       "  </tbody>\n",
       "</table>\n",
       "</div>"
      ],
      "text/plain": [
       "    title                                        description  \\\n",
       "0    TEST    Your program is to use the brute-force appro...   \n",
       "1  CMEXPR    The most important activity of ACM is the GS...   \n",
       "\n",
       "                                               input  \\\n",
       "0                                                NaN   \n",
       "1    There is asingle positive integer T on the f...   \n",
       "\n",
       "                                              output  solved_by date_added  \\\n",
       "0                                                NaN     100118 2004-05-01   \n",
       "1    Print asingle line for every expression. The...        655 2004-05-09   \n",
       "\n",
       "   difficulty  \n",
       "0         5.0  \n",
       "1        26.0  "
      ]
     },
     "execution_count": 7,
     "metadata": {},
     "output_type": "execute_result"
    }
   ],
   "source": [
    "table_A.head(2)"
   ]
  },
  {
   "cell_type": "markdown",
   "metadata": {},
   "source": [
    "__Step 1.5:__ Process filed \"date_added\" to create new field \"days_added\".\n",
    "This field contains the number of days since the problem has been added. This will be\n",
    "further used to caculate the number of people who solve this problem per day. This would\n",
    "be used as an indicator to the level of difficulty of this problem and would help in\n",
    "blocking."
   ]
  },
  {
   "cell_type": "code",
   "execution_count": 8,
   "metadata": {
    "collapsed": false
   },
   "outputs": [
    {
     "data": {
      "text/html": [
       "<div>\n",
       "<table border=\"1\" class=\"dataframe\">\n",
       "  <thead>\n",
       "    <tr style=\"text-align: right;\">\n",
       "      <th></th>\n",
       "      <th>title</th>\n",
       "      <th>description</th>\n",
       "      <th>input</th>\n",
       "      <th>output</th>\n",
       "      <th>solved_by</th>\n",
       "      <th>date_added</th>\n",
       "      <th>difficulty</th>\n",
       "      <th>days_added</th>\n",
       "    </tr>\n",
       "  </thead>\n",
       "  <tbody>\n",
       "    <tr>\n",
       "      <th>3182</th>\n",
       "      <td>AR2015PF</td>\n",
       "      <td>Please read the problem statement carefully....</td>\n",
       "      <td>NaN</td>\n",
       "      <td>NaN</td>\n",
       "      <td>4</td>\n",
       "      <td>NaT</td>\n",
       "      <td>51.0</td>\n",
       "      <td>-1.0</td>\n",
       "    </tr>\n",
       "  </tbody>\n",
       "</table>\n",
       "</div>"
      ],
      "text/plain": [
       "         title                                        description input  \\\n",
       "3182  AR2015PF    Please read the problem statement carefully....   NaN   \n",
       "\n",
       "     output  solved_by date_added  difficulty  days_added  \n",
       "3182    NaN          4        NaT        51.0        -1.0  "
      ]
     },
     "execution_count": 8,
     "metadata": {},
     "output_type": "execute_result"
    }
   ],
   "source": [
    "now = datetime.strptime(\"2016-11-01\", \"%Y-%m-%d\")\n",
    "def process_date_added(df):\n",
    "    try:\n",
    "        if False == pd.isnull(df[\"date_added\"]):\n",
    "            return np.timedelta64((now - df[\"date_added\"]), 'D').astype(float)\n",
    "        else:\n",
    "            return -1\n",
    "    except:\n",
    "        pass\n",
    "    \n",
    "table_A[\"days_added\"] = table_A.apply(process_date_added, axis=1)\n",
    "table_A[table_A[\"days_added\"] < 0]"
   ]
  },
  {
   "cell_type": "code",
   "execution_count": 9,
   "metadata": {
    "collapsed": false
   },
   "outputs": [
    {
     "name": "stderr",
     "output_type": "stream",
     "text": [
      "/home/karan/anaconda2/lib/python2.7/site-packages/pandas/core/indexing.py:132: SettingWithCopyWarning: \n",
      "A value is trying to be set on a copy of a slice from a DataFrame\n",
      "\n",
      "See the caveats in the documentation: http://pandas.pydata.org/pandas-docs/stable/indexing.html#indexing-view-versus-copy\n",
      "  self._setitem_with_indexer(indexer, value)\n"
     ]
    },
    {
     "data": {
      "text/html": [
       "<div>\n",
       "<table border=\"1\" class=\"dataframe\">\n",
       "  <thead>\n",
       "    <tr style=\"text-align: right;\">\n",
       "      <th></th>\n",
       "      <th>title</th>\n",
       "      <th>description</th>\n",
       "      <th>input</th>\n",
       "      <th>output</th>\n",
       "      <th>solved_by</th>\n",
       "      <th>date_added</th>\n",
       "      <th>difficulty</th>\n",
       "      <th>days_added</th>\n",
       "    </tr>\n",
       "  </thead>\n",
       "  <tbody>\n",
       "    <tr>\n",
       "      <th>0</th>\n",
       "      <td>TEST</td>\n",
       "      <td>Your program is to use the brute-force appro...</td>\n",
       "      <td>NaN</td>\n",
       "      <td>NaN</td>\n",
       "      <td>100118</td>\n",
       "      <td>2004-05-01</td>\n",
       "      <td>5.0</td>\n",
       "      <td>4567.0</td>\n",
       "    </tr>\n",
       "    <tr>\n",
       "      <th>1</th>\n",
       "      <td>CMEXPR</td>\n",
       "      <td>The most important activity of ACM is the GS...</td>\n",
       "      <td>There is asingle positive integer T on the f...</td>\n",
       "      <td>Print asingle line for every expression. The...</td>\n",
       "      <td>655</td>\n",
       "      <td>2004-05-09</td>\n",
       "      <td>26.0</td>\n",
       "      <td>4559.0</td>\n",
       "    </tr>\n",
       "  </tbody>\n",
       "</table>\n",
       "</div>"
      ],
      "text/plain": [
       "    title                                        description  \\\n",
       "0    TEST    Your program is to use the brute-force appro...   \n",
       "1  CMEXPR    The most important activity of ACM is the GS...   \n",
       "\n",
       "                                               input  \\\n",
       "0                                                NaN   \n",
       "1    There is asingle positive integer T on the f...   \n",
       "\n",
       "                                              output  solved_by date_added  \\\n",
       "0                                                NaN     100118 2004-05-01   \n",
       "1    Print asingle line for every expression. The...        655 2004-05-09   \n",
       "\n",
       "   difficulty  days_added  \n",
       "0         5.0      4567.0  \n",
       "1        26.0      4559.0  "
      ]
     },
     "execution_count": 9,
     "metadata": {},
     "output_type": "execute_result"
    }
   ],
   "source": [
    "# Got manually from the website using above table\n",
    "table_A[\"days_added\"].iloc[3182] = np.timedelta64(now - datetime.strptime(\"2016-07-09\", \"%Y-%m-%d\")\\\n",
    "                                                    , 'D').astype(float)\n",
    "table_A.head(2)"
   ]
  },
  {
   "cell_type": "markdown",
   "metadata": {},
   "source": [
    "__Step 1.6:__ Process field \"solved_by\" and \"days_added\" to create new field \"solve_rate\""
   ]
  },
  {
   "cell_type": "code",
   "execution_count": 10,
   "metadata": {
    "collapsed": false
   },
   "outputs": [
    {
     "data": {
      "text/html": [
       "<div>\n",
       "<table border=\"1\" class=\"dataframe\">\n",
       "  <thead>\n",
       "    <tr style=\"text-align: right;\">\n",
       "      <th></th>\n",
       "      <th>title</th>\n",
       "      <th>description</th>\n",
       "      <th>input</th>\n",
       "      <th>output</th>\n",
       "      <th>solved_by</th>\n",
       "      <th>date_added</th>\n",
       "      <th>difficulty</th>\n",
       "      <th>days_added</th>\n",
       "      <th>solve_rate</th>\n",
       "    </tr>\n",
       "  </thead>\n",
       "  <tbody>\n",
       "    <tr>\n",
       "      <th>0</th>\n",
       "      <td>TEST</td>\n",
       "      <td>Your program is to use the brute-force appro...</td>\n",
       "      <td>NaN</td>\n",
       "      <td>NaN</td>\n",
       "      <td>100118</td>\n",
       "      <td>2004-05-01</td>\n",
       "      <td>5.0</td>\n",
       "      <td>4567.0</td>\n",
       "      <td>21.922049</td>\n",
       "    </tr>\n",
       "    <tr>\n",
       "      <th>1</th>\n",
       "      <td>CMEXPR</td>\n",
       "      <td>The most important activity of ACM is the GS...</td>\n",
       "      <td>There is asingle positive integer T on the f...</td>\n",
       "      <td>Print asingle line for every expression. The...</td>\n",
       "      <td>655</td>\n",
       "      <td>2004-05-09</td>\n",
       "      <td>26.0</td>\n",
       "      <td>4559.0</td>\n",
       "      <td>0.143672</td>\n",
       "    </tr>\n",
       "  </tbody>\n",
       "</table>\n",
       "</div>"
      ],
      "text/plain": [
       "    title                                        description  \\\n",
       "0    TEST    Your program is to use the brute-force appro...   \n",
       "1  CMEXPR    The most important activity of ACM is the GS...   \n",
       "\n",
       "                                               input  \\\n",
       "0                                                NaN   \n",
       "1    There is asingle positive integer T on the f...   \n",
       "\n",
       "                                              output  solved_by date_added  \\\n",
       "0                                                NaN     100118 2004-05-01   \n",
       "1    Print asingle line for every expression. The...        655 2004-05-09   \n",
       "\n",
       "   difficulty  days_added  solve_rate  \n",
       "0         5.0      4567.0   21.922049  \n",
       "1        26.0      4559.0    0.143672  "
      ]
     },
     "execution_count": 10,
     "metadata": {},
     "output_type": "execute_result"
    }
   ],
   "source": [
    "def create_solve_rate(df):\n",
    "    try:\n",
    "        return df[\"solved_by\"]/df[\"days_added\"]\n",
    "    except:\n",
    "        pass\n",
    "    \n",
    "table_A[\"solve_rate\"] = table_A.apply(create_solve_rate, axis=1)\n",
    "table_A.head(2)"
   ]
  },
  {
   "cell_type": "markdown",
   "metadata": {},
   "source": [
    "__Step 1.7:__ Drop \"solved_by\", \"days_added\" and \"date_added\" fields"
   ]
  },
  {
   "cell_type": "code",
   "execution_count": 11,
   "metadata": {
    "collapsed": false
   },
   "outputs": [
    {
     "data": {
      "text/html": [
       "<div>\n",
       "<table border=\"1\" class=\"dataframe\">\n",
       "  <thead>\n",
       "    <tr style=\"text-align: right;\">\n",
       "      <th></th>\n",
       "      <th>title</th>\n",
       "      <th>description</th>\n",
       "      <th>input</th>\n",
       "      <th>output</th>\n",
       "      <th>difficulty</th>\n",
       "      <th>solve_rate</th>\n",
       "    </tr>\n",
       "  </thead>\n",
       "  <tbody>\n",
       "    <tr>\n",
       "      <th>0</th>\n",
       "      <td>TEST</td>\n",
       "      <td>Your program is to use the brute-force appro...</td>\n",
       "      <td>NaN</td>\n",
       "      <td>NaN</td>\n",
       "      <td>5.0</td>\n",
       "      <td>21.922049</td>\n",
       "    </tr>\n",
       "    <tr>\n",
       "      <th>1</th>\n",
       "      <td>CMEXPR</td>\n",
       "      <td>The most important activity of ACM is the GS...</td>\n",
       "      <td>There is asingle positive integer T on the f...</td>\n",
       "      <td>Print asingle line for every expression. The...</td>\n",
       "      <td>26.0</td>\n",
       "      <td>0.143672</td>\n",
       "    </tr>\n",
       "  </tbody>\n",
       "</table>\n",
       "</div>"
      ],
      "text/plain": [
       "    title                                        description  \\\n",
       "0    TEST    Your program is to use the brute-force appro...   \n",
       "1  CMEXPR    The most important activity of ACM is the GS...   \n",
       "\n",
       "                                               input  \\\n",
       "0                                                NaN   \n",
       "1    There is asingle positive integer T on the f...   \n",
       "\n",
       "                                              output  difficulty  solve_rate  \n",
       "0                                                NaN         5.0   21.922049  \n",
       "1    Print asingle line for every expression. The...        26.0    0.143672  "
      ]
     },
     "execution_count": 11,
     "metadata": {},
     "output_type": "execute_result"
    }
   ],
   "source": [
    "table_A = table_A[[\"title\", \"description\", \"input\",\n",
    "                   \"output\", \"difficulty\", \"solve_rate\"]]\n",
    "table_A.head(2)"
   ]
  },
  {
   "cell_type": "markdown",
   "metadata": {},
   "source": [
    "__Step 1.8:__ Plot histograms and normalize the fields \"difficulty\" and \"solve_rate\""
   ]
  },
  {
   "cell_type": "code",
   "execution_count": 14,
   "metadata": {
    "collapsed": true
   },
   "outputs": [],
   "source": [
    "# Helper function\n",
    "def myround(x, base):\n",
    "    return int(base * round(float(x)/base))\n",
    "\n",
    "def numeric_histogram(table, attribute, range=[0,0], stdev=3, bins=20):\n",
    "    values = table[attribute].astype(float)\n",
    "    if range == [0,0]:\n",
    "        range = [0, myround(values.std()*stdev, 5)]\n",
    "    plt.hist(values, bins=bins, range=range)\n",
    "    plt.title(\"%s - Histogram (%d bins)\" % (attribute, bins))\n",
    "    plt.show()\n",
    "    summary_table = pd.DataFrame()\n",
    "    summary_table[\"outliers\"] = table[attribute][values[\n",
    "            ((values - values.mean()) / values.std()).abs() > stdev\n",
    "        ].index].astype(float)\n",
    "    print \"There are %d outliers outside of %d standard \\\n",
    "    deviations of %s.\" % (len(summary_table), stdev, attribute)\n",
    "    return summary_table.sort_values(by=\"outliers\")"
   ]
  },
  {
   "cell_type": "code",
   "execution_count": 18,
   "metadata": {
    "collapsed": false
   },
   "outputs": [
    {
     "data": {
      "image/png": "[encoded data removed]",
      "text/plain": [
       "<matplotlib.figure.Figure at 0x7f77d5c80590>"
      ]
     },
     "metadata": {},
     "output_type": "display_data"
    },
    {
     "name": "stdout",
     "output_type": "stream",
     "text": [
      "There are 24 outliers outside of 5 standard     deviations of solve_rate.\n"
     ]
    },
    {
     "data": {
      "text/html": [
       "<div>\n",
       "<table border=\"1\" class=\"dataframe\">\n",
       "  <thead>\n",
       "    <tr style=\"text-align: right;\">\n",
       "      <th></th>\n",
       "      <th>outliers</th>\n",
       "    </tr>\n",
       "  </thead>\n",
       "  <tbody>\n",
       "    <tr>\n",
       "      <th>567</th>\n",
       "      <td>3.016426</td>\n",
       "    </tr>\n",
       "    <tr>\n",
       "      <th>3487</th>\n",
       "      <td>3.027185</td>\n",
       "    </tr>\n",
       "    <tr>\n",
       "      <th>1463</th>\n",
       "      <td>3.031414</td>\n",
       "    </tr>\n",
       "    <tr>\n",
       "      <th>4456</th>\n",
       "      <td>3.207454</td>\n",
       "    </tr>\n",
       "    <tr>\n",
       "      <th>3729</th>\n",
       "      <td>3.533269</td>\n",
       "    </tr>\n",
       "    <tr>\n",
       "      <th>2337</th>\n",
       "      <td>3.633824</td>\n",
       "    </tr>\n",
       "    <tr>\n",
       "      <th>175</th>\n",
       "      <td>3.649396</td>\n",
       "    </tr>\n",
       "    <tr>\n",
       "      <th>1213</th>\n",
       "      <td>3.682965</td>\n",
       "    </tr>\n",
       "    <tr>\n",
       "      <th>74</th>\n",
       "      <td>3.955689</td>\n",
       "    </tr>\n",
       "    <tr>\n",
       "      <th>3727</th>\n",
       "      <td>4.501861</td>\n",
       "    </tr>\n",
       "    <tr>\n",
       "      <th>289</th>\n",
       "      <td>4.539551</td>\n",
       "    </tr>\n",
       "    <tr>\n",
       "      <th>3523</th>\n",
       "      <td>4.573651</td>\n",
       "    </tr>\n",
       "    <tr>\n",
       "      <th>2285</th>\n",
       "      <td>4.604359</td>\n",
       "    </tr>\n",
       "    <tr>\n",
       "      <th>3839</th>\n",
       "      <td>4.767433</td>\n",
       "    </tr>\n",
       "    <tr>\n",
       "      <th>308</th>\n",
       "      <td>4.924222</td>\n",
       "    </tr>\n",
       "    <tr>\n",
       "      <th>5148</th>\n",
       "      <td>5.004398</td>\n",
       "    </tr>\n",
       "    <tr>\n",
       "      <th>2691</th>\n",
       "      <td>5.302203</td>\n",
       "    </tr>\n",
       "    <tr>\n",
       "      <th>3511</th>\n",
       "      <td>6.096552</td>\n",
       "    </tr>\n",
       "    <tr>\n",
       "      <th>279</th>\n",
       "      <td>6.431674</td>\n",
       "    </tr>\n",
       "    <tr>\n",
       "      <th>2123</th>\n",
       "      <td>6.863806</td>\n",
       "    </tr>\n",
       "    <tr>\n",
       "      <th>542</th>\n",
       "      <td>6.871410</td>\n",
       "    </tr>\n",
       "    <tr>\n",
       "      <th>4602</th>\n",
       "      <td>7.430883</td>\n",
       "    </tr>\n",
       "    <tr>\n",
       "      <th>3811</th>\n",
       "      <td>7.785699</td>\n",
       "    </tr>\n",
       "    <tr>\n",
       "      <th>0</th>\n",
       "      <td>21.922049</td>\n",
       "    </tr>\n",
       "  </tbody>\n",
       "</table>\n",
       "</div>"
      ],
      "text/plain": [
       "       outliers\n",
       "567    3.016426\n",
       "3487   3.027185\n",
       "1463   3.031414\n",
       "4456   3.207454\n",
       "3729   3.533269\n",
       "2337   3.633824\n",
       "175    3.649396\n",
       "1213   3.682965\n",
       "74     3.955689\n",
       "3727   4.501861\n",
       "289    4.539551\n",
       "3523   4.573651\n",
       "2285   4.604359\n",
       "3839   4.767433\n",
       "308    4.924222\n",
       "5148   5.004398\n",
       "2691   5.302203\n",
       "3511   6.096552\n",
       "279    6.431674\n",
       "2123   6.863806\n",
       "542    6.871410\n",
       "4602   7.430883\n",
       "3811   7.785699\n",
       "0     21.922049"
      ]
     },
     "execution_count": 18,
     "metadata": {},
     "output_type": "execute_result"
    }
   ],
   "source": [
    "numeric_histogram(table_A, \"solve_rate\", range=[0,1], bins=100, stdev=5)"
   ]
  },
  {
   "cell_type": "code",
   "execution_count": 20,
   "metadata": {
    "collapsed": false
   },
   "outputs": [
    {
     "data": {
      "image/png": "[encoded data removed]",
      "text/plain": [
       "<matplotlib.figure.Figure at 0x7f77d57feb10>"
      ]
     },
     "metadata": {},
     "output_type": "display_data"
    },
    {
     "name": "stdout",
     "output_type": "stream",
     "text": [
      "There are 30 outliers outside of 3 standard     deviations of difficulty.\n"
     ]
    },
    {
     "data": {
      "text/html": [
       "<div>\n",
       "<table border=\"1\" class=\"dataframe\">\n",
       "  <thead>\n",
       "    <tr style=\"text-align: right;\">\n",
       "      <th></th>\n",
       "      <th>outliers</th>\n",
       "    </tr>\n",
       "  </thead>\n",
       "  <tbody>\n",
       "    <tr>\n",
       "      <th>151</th>\n",
       "      <td>100.0</td>\n",
       "    </tr>\n",
       "    <tr>\n",
       "      <th>5032</th>\n",
       "      <td>100.0</td>\n",
       "    </tr>\n",
       "    <tr>\n",
       "      <th>4920</th>\n",
       "      <td>100.0</td>\n",
       "    </tr>\n",
       "    <tr>\n",
       "      <th>4686</th>\n",
       "      <td>100.0</td>\n",
       "    </tr>\n",
       "    <tr>\n",
       "      <th>4582</th>\n",
       "      <td>100.0</td>\n",
       "    </tr>\n",
       "    <tr>\n",
       "      <th>4508</th>\n",
       "      <td>100.0</td>\n",
       "    </tr>\n",
       "    <tr>\n",
       "      <th>4433</th>\n",
       "      <td>100.0</td>\n",
       "    </tr>\n",
       "    <tr>\n",
       "      <th>4170</th>\n",
       "      <td>100.0</td>\n",
       "    </tr>\n",
       "    <tr>\n",
       "      <th>4158</th>\n",
       "      <td>100.0</td>\n",
       "    </tr>\n",
       "    <tr>\n",
       "      <th>3716</th>\n",
       "      <td>100.0</td>\n",
       "    </tr>\n",
       "    <tr>\n",
       "      <th>3701</th>\n",
       "      <td>100.0</td>\n",
       "    </tr>\n",
       "    <tr>\n",
       "      <th>3416</th>\n",
       "      <td>100.0</td>\n",
       "    </tr>\n",
       "    <tr>\n",
       "      <th>3368</th>\n",
       "      <td>100.0</td>\n",
       "    </tr>\n",
       "    <tr>\n",
       "      <th>2163</th>\n",
       "      <td>100.0</td>\n",
       "    </tr>\n",
       "    <tr>\n",
       "      <th>2116</th>\n",
       "      <td>100.0</td>\n",
       "    </tr>\n",
       "    <tr>\n",
       "      <th>1673</th>\n",
       "      <td>100.0</td>\n",
       "    </tr>\n",
       "    <tr>\n",
       "      <th>1646</th>\n",
       "      <td>100.0</td>\n",
       "    </tr>\n",
       "    <tr>\n",
       "      <th>1552</th>\n",
       "      <td>100.0</td>\n",
       "    </tr>\n",
       "    <tr>\n",
       "      <th>1293</th>\n",
       "      <td>100.0</td>\n",
       "    </tr>\n",
       "    <tr>\n",
       "      <th>1285</th>\n",
       "      <td>100.0</td>\n",
       "    </tr>\n",
       "    <tr>\n",
       "      <th>1207</th>\n",
       "      <td>100.0</td>\n",
       "    </tr>\n",
       "    <tr>\n",
       "      <th>1181</th>\n",
       "      <td>100.0</td>\n",
       "    </tr>\n",
       "    <tr>\n",
       "      <th>1092</th>\n",
       "      <td>100.0</td>\n",
       "    </tr>\n",
       "    <tr>\n",
       "      <th>858</th>\n",
       "      <td>100.0</td>\n",
       "    </tr>\n",
       "    <tr>\n",
       "      <th>781</th>\n",
       "      <td>100.0</td>\n",
       "    </tr>\n",
       "    <tr>\n",
       "      <th>551</th>\n",
       "      <td>100.0</td>\n",
       "    </tr>\n",
       "    <tr>\n",
       "      <th>481</th>\n",
       "      <td>100.0</td>\n",
       "    </tr>\n",
       "    <tr>\n",
       "      <th>442</th>\n",
       "      <td>100.0</td>\n",
       "    </tr>\n",
       "    <tr>\n",
       "      <th>5043</th>\n",
       "      <td>100.0</td>\n",
       "    </tr>\n",
       "    <tr>\n",
       "      <th>5126</th>\n",
       "      <td>100.0</td>\n",
       "    </tr>\n",
       "  </tbody>\n",
       "</table>\n",
       "</div>"
      ],
      "text/plain": [
       "      outliers\n",
       "151      100.0\n",
       "5032     100.0\n",
       "4920     100.0\n",
       "4686     100.0\n",
       "4582     100.0\n",
       "4508     100.0\n",
       "4433     100.0\n",
       "4170     100.0\n",
       "4158     100.0\n",
       "3716     100.0\n",
       "3701     100.0\n",
       "3416     100.0\n",
       "3368     100.0\n",
       "2163     100.0\n",
       "2116     100.0\n",
       "1673     100.0\n",
       "1646     100.0\n",
       "1552     100.0\n",
       "1293     100.0\n",
       "1285     100.0\n",
       "1207     100.0\n",
       "1181     100.0\n",
       "1092     100.0\n",
       "858      100.0\n",
       "781      100.0\n",
       "551      100.0\n",
       "481      100.0\n",
       "442      100.0\n",
       "5043     100.0\n",
       "5126     100.0"
      ]
     },
     "execution_count": 20,
     "metadata": {},
     "output_type": "execute_result"
    }
   ],
   "source": [
    "numeric_histogram(table_A, \"difficulty\", bins=40)"
   ]
  },
  {
   "cell_type": "markdown",
   "metadata": {},
   "source": [
    "__Step 1.8:__ Calculate Z-score columns for \"solve_rate\" and \"difficulty\" and put them into \"solve_rate_normalized\" and \"difficulty_normalized\""
   ]
  },
  {
   "cell_type": "code",
   "execution_count": 22,
   "metadata": {
    "collapsed": false
   },
   "outputs": [
    {
     "data": {
      "text/html": [
       "<div>\n",
       "<table border=\"1\" class=\"dataframe\">\n",
       "  <thead>\n",
       "    <tr style=\"text-align: right;\">\n",
       "      <th></th>\n",
       "      <th>title</th>\n",
       "      <th>description</th>\n",
       "      <th>input</th>\n",
       "      <th>output</th>\n",
       "      <th>difficulty</th>\n",
       "      <th>solve_rate</th>\n",
       "      <th>difficulty_normalized</th>\n",
       "      <th>solve_rate_normalized</th>\n",
       "    </tr>\n",
       "  </thead>\n",
       "  <tbody>\n",
       "    <tr>\n",
       "      <th>0</th>\n",
       "      <td>TEST</td>\n",
       "      <td>Your program is to use the brute-force appro...</td>\n",
       "      <td>NaN</td>\n",
       "      <td>NaN</td>\n",
       "      <td>5.0</td>\n",
       "      <td>21.922049</td>\n",
       "      <td>-1.329347</td>\n",
       "      <td>38.716293</td>\n",
       "    </tr>\n",
       "    <tr>\n",
       "      <th>1</th>\n",
       "      <td>CMEXPR</td>\n",
       "      <td>The most important activity of ACM is the GS...</td>\n",
       "      <td>There is asingle positive integer T on the f...</td>\n",
       "      <td>Print asingle line for every expression. The...</td>\n",
       "      <td>26.0</td>\n",
       "      <td>0.143672</td>\n",
       "      <td>-0.295130</td>\n",
       "      <td>-0.071428</td>\n",
       "    </tr>\n",
       "  </tbody>\n",
       "</table>\n",
       "</div>"
      ],
      "text/plain": [
       "    title                                        description  \\\n",
       "0    TEST    Your program is to use the brute-force appro...   \n",
       "1  CMEXPR    The most important activity of ACM is the GS...   \n",
       "\n",
       "                                               input  \\\n",
       "0                                                NaN   \n",
       "1    There is asingle positive integer T on the f...   \n",
       "\n",
       "                                              output  difficulty  solve_rate  \\\n",
       "0                                                NaN         5.0   21.922049   \n",
       "1    Print asingle line for every expression. The...        26.0    0.143672   \n",
       "\n",
       "   difficulty_normalized  solve_rate_normalized  \n",
       "0              -1.329347              38.716293  \n",
       "1              -0.295130              -0.071428  "
      ]
     },
     "execution_count": 22,
     "metadata": {},
     "output_type": "execute_result"
    }
   ],
   "source": [
    "cols = [\"difficulty\", \"solve_rate\"]\n",
    "for col in cols:\n",
    "    col_zscore = col + '_normalized'\n",
    "    table_A[col_zscore] = (table_A[col] - table_A[col].mean())/table_A[col].std(ddof=0)\n",
    "table_A.head(2)"
   ]
  },
  {
   "cell_type": "code",
   "execution_count": 23,
   "metadata": {
    "collapsed": false
   },
   "outputs": [
    {
     "data": {
      "text/html": [
       "<div>\n",
       "<table border=\"1\" class=\"dataframe\">\n",
       "  <thead>\n",
       "    <tr style=\"text-align: right;\">\n",
       "      <th></th>\n",
       "      <th>title</th>\n",
       "      <th>description</th>\n",
       "      <th>input</th>\n",
       "      <th>output</th>\n",
       "      <th>difficulty_normalized</th>\n",
       "      <th>solve_rate_normalized</th>\n",
       "    </tr>\n",
       "  </thead>\n",
       "  <tbody>\n",
       "    <tr>\n",
       "      <th>0</th>\n",
       "      <td>TEST</td>\n",
       "      <td>Your program is to use the brute-force appro...</td>\n",
       "      <td>NaN</td>\n",
       "      <td>NaN</td>\n",
       "      <td>-1.329347</td>\n",
       "      <td>38.716293</td>\n",
       "    </tr>\n",
       "    <tr>\n",
       "      <th>1</th>\n",
       "      <td>CMEXPR</td>\n",
       "      <td>The most important activity of ACM is the GS...</td>\n",
       "      <td>There is asingle positive integer T on the f...</td>\n",
       "      <td>Print asingle line for every expression. The...</td>\n",
       "      <td>-0.295130</td>\n",
       "      <td>-0.071428</td>\n",
       "    </tr>\n",
       "  </tbody>\n",
       "</table>\n",
       "</div>"
      ],
      "text/plain": [
       "    title                                        description  \\\n",
       "0    TEST    Your program is to use the brute-force appro...   \n",
       "1  CMEXPR    The most important activity of ACM is the GS...   \n",
       "\n",
       "                                               input  \\\n",
       "0                                                NaN   \n",
       "1    There is asingle positive integer T on the f...   \n",
       "\n",
       "                                              output  difficulty_normalized  \\\n",
       "0                                                NaN              -1.329347   \n",
       "1    Print asingle line for every expression. The...              -0.295130   \n",
       "\n",
       "   solve_rate_normalized  \n",
       "0              38.716293  \n",
       "1              -0.071428  "
      ]
     },
     "execution_count": 23,
     "metadata": {},
     "output_type": "execute_result"
    }
   ],
   "source": [
    "table_A = table_A[[\"title\", \"description\", \"input\", \"output\", \"difficulty_normalized\", \"solve_rate_normalized\"]]\n",
    "table_A.head(2)"
   ]
  },
  {
   "cell_type": "markdown",
   "metadata": {},
   "source": [
    "__Saving CSV file for blocking stage__ : Finished preprocessing stage up till here. Now can proceed with blocking from the csv file \"spoj_blocking.csv\""
   ]
  },
  {
   "cell_type": "code",
   "execution_count": 24,
   "metadata": {
    "collapsed": true
   },
   "outputs": [],
   "source": [
    "table_A.to_csv(\"spoj/json/spoj_blocking.csv\")"
   ]
  },
  {
   "cell_type": "code",
   "execution_count": null,
   "metadata": {
    "collapsed": true
   },
   "outputs": [],
   "source": []
  }
 ],
 "metadata": {
  "kernelspec": {
   "display_name": "Python [Root]",
   "language": "python",
   "name": "Python [Root]"
  },
  "language_info": {
   "codemirror_mode": {
    "name": "ipython",
    "version": 2
   },
   "file_extension": ".py",
   "mimetype": "text/x-python",
   "name": "python",
   "nbconvert_exporter": "python",
   "pygments_lexer": "ipython2",
   "version": "2.7.12"
  }
 },
 "nbformat": 4,
 "nbformat_minor": 0
}
