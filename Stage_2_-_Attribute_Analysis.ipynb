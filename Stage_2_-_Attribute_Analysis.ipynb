{
 "cells": [
  {
   "cell_type": "markdown",
   "metadata": {},
   "source": [
    "# Stage 2 - Attribute Analysis\n",
    "## Step 0: Import Required Packages\n",
    "Below is a list of the python packages we used while preforming Stage 2 of the project."
   ]
  },
  {
   "cell_type": "code",
   "execution_count": 1,
   "metadata": {
    "collapsed": false
   },
   "outputs": [],
   "source": [
    "from bs4 import BeautifulSoup\n",
    "from urllib2 import urlopen\n",
    "import json\n",
    "import pandas as pd\n",
    "import re\n",
    "import numpy as np\n",
    "from datetime import datetime\n",
    "import matplotlib.pyplot as plt\n",
    "%matplotlib inline"
   ]
  },
  {
   "cell_type": "markdown",
   "metadata": {},
   "source": [
    "## Step 1: Load & Prepare Data\n",
    "In this step we will __load__ our data into the python notebook and __manipulate__ the data so that it is in a format that is appropriate in order to analyze each attribute."
   ]
  },
  {
   "cell_type": "markdown",
   "metadata": {},
   "source": [
    "__Step 1.1:__ Select Table to Analyze &  Load Table from Github"
   ]
  },
  {
   "cell_type": "code",
   "execution_count": 2,
   "metadata": {
    "collapsed": false
   },
   "outputs": [],
   "source": [
    "# Links to .CSV tables on Github\n",
    "table_spoj = \"https://raw.githubusercontent.com/KaranTalreja\\\n",
    "/CS638/master/spoj/json/problems.csv?token=AKuoLQ5TaJyvWHVY8M\\\n",
    "6_6MbudhCVoTPrks5YFpVIwA%3D%3D\"\n",
    "table_codechef = \"https://raw.githubusercontent.com/KaranTalre\\\n",
    "ja/CS638/master/codechef/data/codechef_problems.csv?token=AKuo\\\n",
    "LShPnf70FONGdoBnqcJ48j9uYA8bks5YCnDKwA%3D%3D\"\n",
    "\n",
    "# Choose table to analyze\n",
    "choose_table_A = table_spoj\n",
    "\n",
    "# Load table to Pandas dataframe\n",
    "table_A = pd.read_csv(urlopen(choose_table_A))"
   ]
  },
  {
   "cell_type": "markdown",
   "metadata": {},
   "source": [
    "__Step 1.2:__ Manipulate Table Format & Select 10 Attributes"
   ]
  },
  {
   "cell_type": "code",
   "execution_count": 3,
   "metadata": {
    "collapsed": false
   },
   "outputs": [],
   "source": [
    "# Convert \"TimeLimit\" from string to float\n",
    "def str_to_float(df):\n",
    "    times = str(df[\"time_limit\"]).replace(\"s\",\"\").split(\"-\")\n",
    "    try:\n",
    "        return pd.Series([times[0], times[1]])\n",
    "    except:\n",
    "        return pd.Series([times[0], times[0]])\n",
    "\n",
    "table_A[[\"lower_time_limit\", \"upper_time_limit\"]] = \\\n",
    "table_A.apply(str_to_float, axis=1)\n",
    "\n",
    "\n",
    "# \"DateAdded\" attribute as type datetime\n",
    "def str_to_datetime(df):\n",
    "    try:\n",
    "        return datetime.strptime(df[\"date_added\"], \"%Y-%m-%d\")\n",
    "    except:\n",
    "        pass\n",
    "\n",
    "table_A[\"date_added\"] = table_A.apply(str_to_datetime, axis=1)"
   ]
  },
  {
   "cell_type": "markdown",
   "metadata": {},
   "source": [
    "__Step 1.3:__ Select 10 Attributes"
   ]
  },
  {
   "cell_type": "code",
   "execution_count": 4,
   "metadata": {
    "collapsed": false
   },
   "outputs": [
    {
     "data": {
      "text/html": [
       "<div>\n",
       "<table border=\"1\" class=\"dataframe\">\n",
       "  <thead>\n",
       "    <tr style=\"text-align: right;\">\n",
       "      <th></th>\n",
       "      <th>title</th>\n",
       "      <th>added_by</th>\n",
       "      <th>description</th>\n",
       "      <th>input</th>\n",
       "      <th>output</th>\n",
       "      <th>upper_time_limit</th>\n",
       "      <th>accuracy</th>\n",
       "      <th>solved_by</th>\n",
       "      <th>tags</th>\n",
       "      <th>difficulty</th>\n",
       "    </tr>\n",
       "  </thead>\n",
       "  <tbody>\n",
       "    <tr>\n",
       "      <th>0</th>\n",
       "      <td>TEST - Life, the Universe, and Everything</td>\n",
       "      <td>mima</td>\n",
       "      <td>Your program is to use the brute-force appro...</td>\n",
       "      <td>NaN</td>\n",
       "      <td>NaN</td>\n",
       "      <td>10</td>\n",
       "      <td>32.93</td>\n",
       "      <td>100118</td>\n",
       "      <td>88,4,89</td>\n",
       "      <td>5.0</td>\n",
       "    </tr>\n",
       "    <tr>\n",
       "      <th>1</th>\n",
       "      <td>CMEXPR - Complicated Expressions</td>\n",
       "      <td>adrian</td>\n",
       "      <td>The most important activity of ACM is the GS...</td>\n",
       "      <td>There is asingle positive integer T on the f...</td>\n",
       "      <td>Print asingle line for every expression. The...</td>\n",
       "      <td>5</td>\n",
       "      <td>26.55</td>\n",
       "      <td>655</td>\n",
       "      <td>None</td>\n",
       "      <td>26.0</td>\n",
       "    </tr>\n",
       "    <tr>\n",
       "      <th>2</th>\n",
       "      <td>BABTWR - Tower of Babylon</td>\n",
       "      <td>Micha Czuczman</td>\n",
       "      <td>Apart from the Hanging Gardens the Babylonia...</td>\n",
       "      <td>The number of types of blocks n is located i...</td>\n",
       "      <td>For each test case your program should outpu...</td>\n",
       "      <td>3</td>\n",
       "      <td>49.68</td>\n",
       "      <td>2087</td>\n",
       "      <td>None</td>\n",
       "      <td>36.0</td>\n",
       "    </tr>\n",
       "  </tbody>\n",
       "</table>\n",
       "</div>"
      ],
      "text/plain": [
       "                                       title        added_by  \\\n",
       "0  TEST - Life, the Universe, and Everything            mima   \n",
       "1           CMEXPR - Complicated Expressions          adrian   \n",
       "2                  BABTWR - Tower of Babylon  Micha Czuczman   \n",
       "\n",
       "                                         description  \\\n",
       "0    Your program is to use the brute-force appro...   \n",
       "1    The most important activity of ACM is the GS...   \n",
       "2    Apart from the Hanging Gardens the Babylonia...   \n",
       "\n",
       "                                               input  \\\n",
       "0                                                NaN   \n",
       "1    There is asingle positive integer T on the f...   \n",
       "2    The number of types of blocks n is located i...   \n",
       "\n",
       "                                              output upper_time_limit  \\\n",
       "0                                                NaN               10   \n",
       "1    Print asingle line for every expression. The...                5   \n",
       "2    For each test case your program should outpu...                3   \n",
       "\n",
       "   accuracy  solved_by     tags  difficulty  \n",
       "0     32.93     100118  88,4,89         5.0  \n",
       "1     26.55        655     None        26.0  \n",
       "2     49.68       2087     None        36.0  "
      ]
     },
     "execution_count": 4,
     "metadata": {},
     "output_type": "execute_result"
    }
   ],
   "source": [
    "table_A = table_A[[\"title\", \"added_by\", \"description\", \"input\",\n",
    "                   \"output\", \"upper_time_limit\", \"accuracy\",\n",
    "                   \"solved_by\", \"tags\", \"implementation_difficulty\",\n",
    "                   \"concept_difficulty\"]]\n",
    "\n",
    "def tags_missing(df):\n",
    "    if df[\"tags\"] == \"0\":\n",
    "        return None\n",
    "    else:\n",
    "        return df[\"tags\"]\n",
    "\n",
    "table_A[\"tags\"] = table_A.apply(tags_missing, axis=1)\n",
    "\n",
    "table_A[\"difficulty\"] = table_A[\"implementation_difficulty\"] + \\\n",
    "table_A[\"concept_difficulty\"]\n",
    "\n",
    "## Bin difficulty based on percentile (beginner, easy, medium, \n",
    "## hard, challenge, N/A) Next stage...\n",
    "table_A = table_A.drop([\"implementation_difficulty\", \n",
    "                        \"concept_difficulty\"], axis=1)\n",
    "table_A.head(3)"
   ]
  },
  {
   "cell_type": "markdown",
   "metadata": {},
   "source": [
    "## Step 3: Begin Analyzing Attributes\n",
    "1. Count Missing Values\n",
    "2. Discuss Missing Values Fill\n",
    "3. Classify Attribute as:\n",
    "    1. Numeric\n",
    "    2. Textual\n",
    "        1. If textual, report the average, minimal and maximal lengths of its values (length is measured in the number of characters in the value).\n",
    "    3. Categorical\n",
    "    4. Boolean\n",
    "4. Find and report possible outliers and anomalies among the attribute values\n",
    "5. Search for possible synonyms\n",
    "6. Are attribute values \"sprinkled\" over other attributes?\n",
    "7. Note any other data quality issues"
   ]
  },
  {
   "cell_type": "markdown",
   "metadata": {},
   "source": [
    "### Attribute Analysis - Helper Functions"
   ]
  },
  {
   "cell_type": "code",
   "execution_count": 5,
   "metadata": {
    "collapsed": false
   },
   "outputs": [],
   "source": [
    "def missing_value_count(table, attribute):\n",
    "    missing_values = 0\n",
    "    for attr in table[attribute]:\n",
    "        if pd.isnull(attr):\n",
    "            missing_values += 1\n",
    "        else:\n",
    "            pass\n",
    "    \n",
    "    attr_length = len(table)\n",
    "    percent_missing = float(missing_values)/float(attr_length)\n",
    "\n",
    "    return \"%s:%d missing values. (%.2f percent or %d/%d)\" % \\\n",
    "(attribute, missing_values, percent_missing*100., missing_values, attr_length)\n",
    "\n",
    "def len_nan(x):\n",
    "    try:\n",
    "        return len(x)\n",
    "    except:\n",
    "        return 0\n",
    "    \n",
    "def myround(x, base):\n",
    "    return int(base * round(float(x)/base))\n",
    "    \n",
    "def textual_summary(table, attribute):\n",
    "    char_len = table[attribute].apply(len_nan)\n",
    "    return \"%s: mean length = %.2f min length = %d max length = %d\" % \\\n",
    "(attribute, char_len.mean(), char_len.min(), char_len.max())\n",
    "    \n",
    "def textual_histogram(table, attribute, range=[0,0], stdev=3, bins=20):\n",
    "    char_len = table[attribute].apply(len_nan)\n",
    "    if range == [0,0]:\n",
    "        range = [0, myround(char_len.std()*stdev, 5)]\n",
    "    plt.hist(char_len, bins=bins, range=range)\n",
    "    plt.title(\"%s - Character Count Distribution (%d bins)\" % \\\n",
    "              (attribute, bins))\n",
    "    plt.show()\n",
    "    summary_table = pd.DataFrame()\n",
    "    summary_table[\"outliers\"] = table[attribute][char_len[\n",
    "            ((char_len - char_len.mean()) / char_len.std()).abs() > stdev\n",
    "            ].index]\n",
    "    summary_table[\"out_len\"] = table[attribute][char_len[\n",
    "            ((char_len - char_len.mean()) / char_len.std()).abs() > stdev\n",
    "            ].index].apply(len_nan)\n",
    "    print \"There are %d outliers outside of %d standard \\\n",
    "    deviations of %s.\" % (len(summary_table), stdev, attribute)\n",
    "    return summary_table.sort_values(by=\"out_len\")\n",
    "\n",
    "def numeric_histogram(table, attribute, range=[0,0], stdev=3, bins=20):\n",
    "    values = table[attribute].astype(float)\n",
    "    if range == [0,0]:\n",
    "        range = [0, myround(values.std()*stdev, 5)]\n",
    "    plt.hist(values, bins=bins, range=range)\n",
    "    plt.title(\"%s - Histogram (%d bins)\" % (attribute, bins))\n",
    "    plt.show()\n",
    "    summary_table = pd.DataFrame()\n",
    "    summary_table[\"outliers\"] = table[attribute][values[\n",
    "            ((values - values.mean()) / values.std()).abs() > stdev\n",
    "        ].index].astype(float)\n",
    "    print \"There are %d outliers outside of %d standard \\\n",
    "    deviations of %s.\" % (len(summary_table), stdev, attribute)\n",
    "    return summary_table.sort_values(by=\"outliers\")"
   ]
  },
  {
   "cell_type": "markdown",
   "metadata": {},
   "source": [
    "# Step 1: Missing Values"
   ]
  },
  {
   "cell_type": "code",
   "execution_count": 6,
   "metadata": {
    "collapsed": false
   },
   "outputs": [
    {
     "name": "stdout",
     "output_type": "stream",
     "text": [
      "title:0 missing values. (0.00 percent or 0/5166)\n",
      "added_by:12 missing values. (0.23 percent or 12/5166)\n",
      "description:0 missing values. (0.00 percent or 0/5166)\n",
      "input:753 missing values. (14.58 percent or 753/5166)\n",
      "output:876 missing values. (16.96 percent or 876/5166)\n",
      "upper_time_limit:0 missing values. (0.00 percent or 0/5166)\n",
      "accuracy:0 missing values. (0.00 percent or 0/5166)\n",
      "solved_by:0 missing values. (0.00 percent or 0/5166)\n",
      "tags:4173 missing values. (80.78 percent or 4173/5166)\n",
      "difficulty:2984 missing values. (57.76 percent or 2984/5166)\n"
     ]
    }
   ],
   "source": [
    "for attribute in table_A.columns.values:\n",
    "    print missing_value_count(table_A, attribute)"
   ]
  },
  {
   "cell_type": "markdown",
   "metadata": {},
   "source": [
    "# Step 2: Fill Missing Values\n",
    "* __title:__ There are no missing values for this attribute.\n",
    "* __added_by:__ This attribute states the user account responsible for posting the problem, so there does not seem to be a good way to fill this value. Since there are only 12 missing values out of 5166, we will just leave the value as null.\n",
    "* __description:__ There are no missing values for this attribute.\n",
    "* __input:__ This value has 14.58% of the values missing but most of these missing values are sprinkled in the description so we will have to parse that variable to fill these missing values.\n",
    "* __output:__ This value has 16.96% of the values missing but most of these missing values are sprinkled in the description so we will have to parse that variable to fill these missing values.\n",
    "* __upper_time_limit:__ There are no missing values for this attribute.\n",
    "* __accuracy:__ There are no missing values for this attribute.\n",
    "* __solved_by:__ There are no missing values for this attribute.\n",
    "* __tags:__ For the instances without tags, we could look into pulling key words from the description and title. Both the title and description would contain the main ideas of the problem which is the point of this variable.\n",
    "* __difficulty:__ The difficulty has a large percentage of missing values (57.76%), so in order to fill some of these values, we could use a machine learning model to estimate the difficulty based on each instance's accuracy, upper_time_limit, and tags."
   ]
  },
  {
   "cell_type": "markdown",
   "metadata": {},
   "source": [
    "# Step 3: Classify the Attribute\n",
    "* __title:__ textual\n",
    "* __added_by:__ categorical (there is a limited list of users who can submit problems so each problem can be categorized into one of the users)\n",
    "* __description:__ textual\n",
    "* __input:__ textual\n",
    "* __output:__ textual\n",
    "* __upper_time_limit:__ numeric\n",
    "* __accuracy:__ numeric\n",
    "* __solved_by:__ numeric\n",
    "* __tags:__ categorical (there is a list of keys that can be assigned to a problem)\n",
    "* __difficulty:__ numeric"
   ]
  },
  {
   "cell_type": "markdown",
   "metadata": {},
   "source": [
    "# Step 4: Textual Variables - Summary"
   ]
  },
  {
   "cell_type": "code",
   "execution_count": 7,
   "metadata": {
    "collapsed": false
   },
   "outputs": [
    {
     "name": "stdout",
     "output_type": "stream",
     "text": [
      "title: mean length = 25.40 min length = 9 max length = 61\n",
      "description: mean length = 1039.23 min length = 1 max length = 10969\n",
      "input: mean length = 283.58 min length = 0 max length = 3411\n",
      "output: mean length = 348.57 min length = 0 max length = 63965\n"
     ]
    }
   ],
   "source": [
    "for attribute in [\"title\", \"description\", \"input\", \"output\"]:\n",
    "    print textual_summary(table_A, attribute)"
   ]
  },
  {
   "cell_type": "markdown",
   "metadata": {},
   "source": [
    "# Step 5: Outliers & Anomalies\n",
    "__title:__\n",
    "* The title attribute is approximately normally distributed with a long tail to the right. There are a 13 instances that have title character lengths longer than 4 times the standard deviation for this attribute."
   ]
  },
  {
   "cell_type": "code",
   "execution_count": 8,
   "metadata": {
    "collapsed": false
   },
   "outputs": [
    {
     "data": {
      "image/png": "[encoded data removed]",
      "text/plain": [
       "<matplotlib.figure.Figure at 0x119ec6a10>"
      ]
     },
     "metadata": {},
     "output_type": "display_data"
    },
    {
     "name": "stdout",
     "output_type": "stream",
     "text": [
      "There are 13 outliers outside of 4 standard     deviations of title.\n"
     ]
    },
    {
     "data": {
      "text/html": [
       "<div>\n",
       "<table border=\"1\" class=\"dataframe\">\n",
       "  <thead>\n",
       "    <tr style=\"text-align: right;\">\n",
       "      <th></th>\n",
       "      <th>outliers</th>\n",
       "      <th>out_len</th>\n",
       "    </tr>\n",
       "  </thead>\n",
       "  <tbody>\n",
       "    <tr>\n",
       "      <th>611</th>\n",
       "      <td>NITT1 - My Reaction when there is no internet ...</td>\n",
       "      <td>56</td>\n",
       "    </tr>\n",
       "    <tr>\n",
       "      <th>1229</th>\n",
       "      <td>BUGTEST - Tutorial for \"Your Rank is Pure (EXT...</td>\n",
       "      <td>56</td>\n",
       "    </tr>\n",
       "    <tr>\n",
       "      <th>2736</th>\n",
       "      <td>EMAILGEN - Generador de direcciones de correo ...</td>\n",
       "      <td>56</td>\n",
       "    </tr>\n",
       "    <tr>\n",
       "      <th>2945</th>\n",
       "      <td>PES16SEQ - Search for an integer using sequent...</td>\n",
       "      <td>56</td>\n",
       "    </tr>\n",
       "    <tr>\n",
       "      <th>2968</th>\n",
       "      <td>PES16TSP - Solution for a Travelling Salespers...</td>\n",
       "      <td>56</td>\n",
       "    </tr>\n",
       "    <tr>\n",
       "      <th>1900</th>\n",
       "      <td>VAL_GAM4 - Happy Valentine Day (Valentine Adve...</td>\n",
       "      <td>57</td>\n",
       "    </tr>\n",
       "    <tr>\n",
       "      <th>3130</th>\n",
       "      <td>GUESSBDAY - Guess the birthday of author or th...</td>\n",
       "      <td>57</td>\n",
       "    </tr>\n",
       "    <tr>\n",
       "      <th>2975</th>\n",
       "      <td>PES16SO3 - Sort an array of student records by...</td>\n",
       "      <td>58</td>\n",
       "    </tr>\n",
       "    <tr>\n",
       "      <th>1025</th>\n",
       "      <td>IRECSQRT - Inverse of Recurrence Problem With ...</td>\n",
       "      <td>59</td>\n",
       "    </tr>\n",
       "    <tr>\n",
       "      <th>2592</th>\n",
       "      <td>PESADA08 - Position of all-distinct-digits num...</td>\n",
       "      <td>59</td>\n",
       "    </tr>\n",
       "    <tr>\n",
       "      <th>2967</th>\n",
       "      <td>PES16JT - Generate permutations by Johnson-Tro...</td>\n",
       "      <td>60</td>\n",
       "    </tr>\n",
       "    <tr>\n",
       "      <th>1249</th>\n",
       "      <td>BFK_AUTO - Automatic Brainf##k Code Generator ...</td>\n",
       "      <td>61</td>\n",
       "    </tr>\n",
       "    <tr>\n",
       "      <th>2954</th>\n",
       "      <td>PES16SO1 - Sort an array of integers using a O...</td>\n",
       "      <td>61</td>\n",
       "    </tr>\n",
       "  </tbody>\n",
       "</table>\n",
       "</div>"
      ],
      "text/plain": [
       "                                               outliers  out_len\n",
       "611   NITT1 - My Reaction when there is no internet ...       56\n",
       "1229  BUGTEST - Tutorial for \"Your Rank is Pure (EXT...       56\n",
       "2736  EMAILGEN - Generador de direcciones de correo ...       56\n",
       "2945  PES16SEQ - Search for an integer using sequent...       56\n",
       "2968  PES16TSP - Solution for a Travelling Salespers...       56\n",
       "1900  VAL_GAM4 - Happy Valentine Day (Valentine Adve...       57\n",
       "3130  GUESSBDAY - Guess the birthday of author or th...       57\n",
       "2975  PES16SO3 - Sort an array of student records by...       58\n",
       "1025  IRECSQRT - Inverse of Recurrence Problem With ...       59\n",
       "2592  PESADA08 - Position of all-distinct-digits num...       59\n",
       "2967  PES16JT - Generate permutations by Johnson-Tro...       60\n",
       "1249  BFK_AUTO - Automatic Brainf##k Code Generator ...       61\n",
       "2954  PES16SO1 - Sort an array of integers using a O...       61"
      ]
     },
     "execution_count": 8,
     "metadata": {},
     "output_type": "execute_result"
    }
   ],
   "source": [
    "textual_histogram(table_A, \"title\", range=[0,60], stdev=4)"
   ]
  },
  {
   "cell_type": "markdown",
   "metadata": {},
   "source": [
    "__added_by:__\n",
    "* The number of posts by user seem to decline at a regular rate with the exception of \"Fudan University Problem Setters\". This seems to be the only outlier for this attribute."
   ]
  },
  {
   "cell_type": "code",
   "execution_count": 9,
   "metadata": {
    "collapsed": false
   },
   "outputs": [
    {
     "data": {
      "image/png": "[encoded data removed]",
      "text/plain": [
       "<matplotlib.figure.Figure at 0x11950ee10>"
      ]
     },
     "metadata": {},
     "output_type": "display_data"
    }
   ],
   "source": [
    "table_A['added_by'].value_counts()[:30].plot(kind='bar')\n",
    "plt.title(\"Top 30 Users with Most Added Problems\")\n",
    "plt.show()"
   ]
  },
  {
   "cell_type": "markdown",
   "metadata": {},
   "source": [
    "__description:__\n",
    "* The description attribute seems to follow a log normal distribution. There are a 40 instances that have title character lengths longer than 4 times the standard deviation for this attribute."
   ]
  },
  {
   "cell_type": "code",
   "execution_count": 10,
   "metadata": {
    "collapsed": false
   },
   "outputs": [
    {
     "data": {
      "image/png": "[encoded data removed]",
      "text/plain": [
       "<matplotlib.figure.Figure at 0x1194e44d0>"
      ]
     },
     "metadata": {},
     "output_type": "display_data"
    },
    {
     "name": "stdout",
     "output_type": "stream",
     "text": [
      "There are 40 outliers outside of 4 standard     deviations of description.\n"
     ]
    },
    {
     "data": {
      "text/html": [
       "<div>\n",
       "<table border=\"1\" class=\"dataframe\">\n",
       "  <thead>\n",
       "    <tr style=\"text-align: right;\">\n",
       "      <th></th>\n",
       "      <th>outliers</th>\n",
       "      <th>out_len</th>\n",
       "    </tr>\n",
       "  </thead>\n",
       "  <tbody>\n",
       "    <tr>\n",
       "      <th>5164</th>\n",
       "      <td>For years, a group of Regional Contest Dir...</td>\n",
       "      <td>4593</td>\n",
       "    </tr>\n",
       "    <tr>\n",
       "      <th>142</th>\n",
       "      <td>People in Nloglnia are very addicted to vide...</td>\n",
       "      <td>4603</td>\n",
       "    </tr>\n",
       "    <tr>\n",
       "      <th>764</th>\n",
       "      <td>'\"For I am Saruman the Wise, Saruman Ring-...</td>\n",
       "      <td>4619</td>\n",
       "    </tr>\n",
       "    <tr>\n",
       "      <th>1821</th>\n",
       "      <td>With growing popularity of Robert in Harvard...</td>\n",
       "      <td>4642</td>\n",
       "    </tr>\n",
       "    <tr>\n",
       "      <th>4908</th>\n",
       "      <td>Most nonfiction and reference books have an ...</td>\n",
       "      <td>4677</td>\n",
       "    </tr>\n",
       "    <tr>\n",
       "      <th>1763</th>\n",
       "      <td>Charlie and the Chocolate Factory    Charlie...</td>\n",
       "      <td>4714</td>\n",
       "    </tr>\n",
       "    <tr>\n",
       "      <th>4814</th>\n",
       "      <td>Deoxyribonucleic acid (DNA) is composed of a...</td>\n",
       "      <td>4734</td>\n",
       "    </tr>\n",
       "    <tr>\n",
       "      <th>67</th>\n",
       "      <td>Harry's friend Charlie Weasley has partner...</td>\n",
       "      <td>4796</td>\n",
       "    </tr>\n",
       "    <tr>\n",
       "      <th>768</th>\n",
       "      <td>Wormtongue looked from face to face. In hi...</td>\n",
       "      <td>4867</td>\n",
       "    </tr>\n",
       "    <tr>\n",
       "      <th>2298</th>\n",
       "      <td>All of us are familiar with the reign of t...</td>\n",
       "      <td>4889</td>\n",
       "    </tr>\n",
       "    <tr>\n",
       "      <th>3910</th>\n",
       "      <td>The nefarious Mysterio an expertise in ill...</td>\n",
       "      <td>4904</td>\n",
       "    </tr>\n",
       "    <tr>\n",
       "      <th>3289</th>\n",
       "      <td>[Due to SPOJ restrictions, this problem has ...</td>\n",
       "      <td>4940</td>\n",
       "    </tr>\n",
       "    <tr>\n",
       "      <th>2240</th>\n",
       "      <td>In the woods of Lill-Jansskogen, there is ...</td>\n",
       "      <td>4965</td>\n",
       "    </tr>\n",
       "    <tr>\n",
       "      <th>767</th>\n",
       "      <td>Hoo, ho! Good morning, Merry and Pippin!' ...</td>\n",
       "      <td>4995</td>\n",
       "    </tr>\n",
       "    <tr>\n",
       "      <th>1844</th>\n",
       "      <td>You are studying a takeover war between tw...</td>\n",
       "      <td>5019</td>\n",
       "    </tr>\n",
       "    <tr>\n",
       "      <th>4919</th>\n",
       "      <td>HQ9+ is an esoteric programming language spe...</td>\n",
       "      <td>5025</td>\n",
       "    </tr>\n",
       "    <tr>\n",
       "      <th>763</th>\n",
       "      <td>'Strange are the ways of Men, Legolas! Her...</td>\n",
       "      <td>5077</td>\n",
       "    </tr>\n",
       "    <tr>\n",
       "      <th>758</th>\n",
       "      <td>'Hush!' said Frodo. 'I think I hear hoofs ...</td>\n",
       "      <td>5089</td>\n",
       "    </tr>\n",
       "    <tr>\n",
       "      <th>2347</th>\n",
       "      <td>David has a problem. He wants to transfer a ...</td>\n",
       "      <td>5097</td>\n",
       "    </tr>\n",
       "    <tr>\n",
       "      <th>5156</th>\n",
       "      <td>This year, Egypt has been going through an e...</td>\n",
       "      <td>5113</td>\n",
       "    </tr>\n",
       "    <tr>\n",
       "      <th>1462</th>\n",
       "      <td>PROBLEM CODE:Enigma Treasure Hunt   Kaushi...</td>\n",
       "      <td>5163</td>\n",
       "    </tr>\n",
       "    <tr>\n",
       "      <th>2276</th>\n",
       "      <td>[Due to SPOJ restrictions, this problem has ...</td>\n",
       "      <td>5215</td>\n",
       "    </tr>\n",
       "    <tr>\n",
       "      <th>2861</th>\n",
       "      <td>[Due to SPOJ restrictions, this problem has ...</td>\n",
       "      <td>5256</td>\n",
       "    </tr>\n",
       "    <tr>\n",
       "      <th>1698</th>\n",
       "      <td>Tropical Garden  Botanist Somhed regularly t...</td>\n",
       "      <td>5270</td>\n",
       "    </tr>\n",
       "    <tr>\n",
       "      <th>2042</th>\n",
       "      <td>NOTE: You can skip to BRIEF if you do not ...</td>\n",
       "      <td>5356</td>\n",
       "    </tr>\n",
       "    <tr>\n",
       "      <th>68</th>\n",
       "      <td>The wizards and witches of Hogwarts School...</td>\n",
       "      <td>5373</td>\n",
       "    </tr>\n",
       "    <tr>\n",
       "      <th>14</th>\n",
       "      <td>A colony of alien bacteria has recently been...</td>\n",
       "      <td>5630</td>\n",
       "    </tr>\n",
       "    <tr>\n",
       "      <th>173</th>\n",
       "      <td>Nlogonian people is very excited about the...</td>\n",
       "      <td>5637</td>\n",
       "    </tr>\n",
       "    <tr>\n",
       "      <th>1396</th>\n",
       "      <td>An application to assist in the analysis o...</td>\n",
       "      <td>6318</td>\n",
       "    </tr>\n",
       "    <tr>\n",
       "      <th>766</th>\n",
       "      <td>'I think that the enemy brought his own en...</td>\n",
       "      <td>6357</td>\n",
       "    </tr>\n",
       "    <tr>\n",
       "      <th>3445</th>\n",
       "      <td>Slitherlink is a puzzle published by Nikoli,...</td>\n",
       "      <td>6565</td>\n",
       "    </tr>\n",
       "    <tr>\n",
       "      <th>2485</th>\n",
       "      <td>One of the most famous German card games (al...</td>\n",
       "      <td>6621</td>\n",
       "    </tr>\n",
       "    <tr>\n",
       "      <th>2197</th>\n",
       "      <td>Combinational logic circuits are part of all...</td>\n",
       "      <td>6735</td>\n",
       "    </tr>\n",
       "    <tr>\n",
       "      <th>4906</th>\n",
       "      <td>The Dotty Software Company makes software th...</td>\n",
       "      <td>6816</td>\n",
       "    </tr>\n",
       "    <tr>\n",
       "      <th>759</th>\n",
       "      <td>'We fought far under the living earth, whe...</td>\n",
       "      <td>6909</td>\n",
       "    </tr>\n",
       "    <tr>\n",
       "      <th>3294</th>\n",
       "      <td>[Due to SPOJ restrictions, this problem has ...</td>\n",
       "      <td>7864</td>\n",
       "    </tr>\n",
       "    <tr>\n",
       "      <th>2451</th>\n",
       "      <td>English version  Wersja polska      The ...</td>\n",
       "      <td>7939</td>\n",
       "    </tr>\n",
       "    <tr>\n",
       "      <th>2857</th>\n",
       "      <td>[Due to SPOJ restrictions, this problem has ...</td>\n",
       "      <td>9761</td>\n",
       "    </tr>\n",
       "    <tr>\n",
       "      <th>762</th>\n",
       "      <td>'Though the Stewards deemed that it was a ...</td>\n",
       "      <td>10202</td>\n",
       "    </tr>\n",
       "    <tr>\n",
       "      <th>1291</th>\n",
       "      <td>Imagine you are a Human Being .. So you have...</td>\n",
       "      <td>10969</td>\n",
       "    </tr>\n",
       "  </tbody>\n",
       "</table>\n",
       "</div>"
      ],
      "text/plain": [
       "                                               outliers  out_len\n",
       "5164      For years, a group of Regional Contest Dir...     4593\n",
       "142     People in Nloglnia are very addicted to vide...     4603\n",
       "764       '\"For I am Saruman the Wise, Saruman Ring-...     4619\n",
       "1821    With growing popularity of Robert in Harvard...     4642\n",
       "4908    Most nonfiction and reference books have an ...     4677\n",
       "1763    Charlie and the Chocolate Factory    Charlie...     4714\n",
       "4814    Deoxyribonucleic acid (DNA) is composed of a...     4734\n",
       "67        Harry's friend Charlie Weasley has partner...     4796\n",
       "768       Wormtongue looked from face to face. In hi...     4867\n",
       "2298      All of us are familiar with the reign of t...     4889\n",
       "3910      The nefarious Mysterio an expertise in ill...     4904\n",
       "3289    [Due to SPOJ restrictions, this problem has ...     4940\n",
       "2240      In the woods of Lill-Jansskogen, there is ...     4965\n",
       "767       Hoo, ho! Good morning, Merry and Pippin!' ...     4995\n",
       "1844      You are studying a takeover war between tw...     5019\n",
       "4919    HQ9+ is an esoteric programming language spe...     5025\n",
       "763       'Strange are the ways of Men, Legolas! Her...     5077\n",
       "758       'Hush!' said Frodo. 'I think I hear hoofs ...     5089\n",
       "2347    David has a problem. He wants to transfer a ...     5097\n",
       "5156    This year, Egypt has been going through an e...     5113\n",
       "1462      PROBLEM CODE:Enigma Treasure Hunt   Kaushi...     5163\n",
       "2276    [Due to SPOJ restrictions, this problem has ...     5215\n",
       "2861    [Due to SPOJ restrictions, this problem has ...     5256\n",
       "1698    Tropical Garden  Botanist Somhed regularly t...     5270\n",
       "2042      NOTE: You can skip to BRIEF if you do not ...     5356\n",
       "68        The wizards and witches of Hogwarts School...     5373\n",
       "14      A colony of alien bacteria has recently been...     5630\n",
       "173       Nlogonian people is very excited about the...     5637\n",
       "1396      An application to assist in the analysis o...     6318\n",
       "766       'I think that the enemy brought his own en...     6357\n",
       "3445    Slitherlink is a puzzle published by Nikoli,...     6565\n",
       "2485    One of the most famous German card games (al...     6621\n",
       "2197    Combinational logic circuits are part of all...     6735\n",
       "4906    The Dotty Software Company makes software th...     6816\n",
       "759       'We fought far under the living earth, whe...     6909\n",
       "3294    [Due to SPOJ restrictions, this problem has ...     7864\n",
       "2451        English version  Wersja polska      The ...     7939\n",
       "2857    [Due to SPOJ restrictions, this problem has ...     9761\n",
       "762       'Though the Stewards deemed that it was a ...    10202\n",
       "1291    Imagine you are a Human Being .. So you have...    10969"
      ]
     },
     "execution_count": 10,
     "metadata": {},
     "output_type": "execute_result"
    }
   ],
   "source": [
    "textual_histogram(table_A, \"description\", \n",
    "                  range=[0,5000], stdev=4)"
   ]
  },
  {
   "cell_type": "markdown",
   "metadata": {},
   "source": [
    "__input:__\n",
    "* The input attribute seems to follow an exponential distribution. There are a 36 instances that have title character lengths longer than 4 times the standard deviation for this attribute."
   ]
  },
  {
   "cell_type": "code",
   "execution_count": 11,
   "metadata": {
    "collapsed": false
   },
   "outputs": [
    {
     "data": {
      "image/png": "[encoded data removed]",
      "text/plain": [
       "<matplotlib.figure.Figure at 0x1190fd1d0>"
      ]
     },
     "metadata": {},
     "output_type": "display_data"
    },
    {
     "name": "stdout",
     "output_type": "stream",
     "text": [
      "There are 36 outliers outside of 4 standard     deviations of input.\n"
     ]
    },
    {
     "data": {
      "text/html": [
       "<div>\n",
       "<table border=\"1\" class=\"dataframe\">\n",
       "  <thead>\n",
       "    <tr style=\"text-align: right;\">\n",
       "      <th></th>\n",
       "      <th>outliers</th>\n",
       "      <th>out_len</th>\n",
       "    </tr>\n",
       "  </thead>\n",
       "  <tbody>\n",
       "    <tr>\n",
       "      <th>1780</th>\n",
       "      <td>The number of equations t is in the first li...</td>\n",
       "      <td>1426</td>\n",
       "    </tr>\n",
       "    <tr>\n",
       "      <th>489</th>\n",
       "      <td>The input consists of multiple datasets, eac...</td>\n",
       "      <td>1426</td>\n",
       "    </tr>\n",
       "    <tr>\n",
       "      <th>3845</th>\n",
       "      <td>The first line of the standard input contain...</td>\n",
       "      <td>1432</td>\n",
       "    </tr>\n",
       "    <tr>\n",
       "      <th>3748</th>\n",
       "      <td>The first line of the input contains a singl...</td>\n",
       "      <td>1436</td>\n",
       "    </tr>\n",
       "    <tr>\n",
       "      <th>868</th>\n",
       "      <td>The first line of the input contains a numbe...</td>\n",
       "      <td>1445</td>\n",
       "    </tr>\n",
       "    <tr>\n",
       "      <th>3119</th>\n",
       "      <td>The first line of input contains two integer...</td>\n",
       "      <td>1446</td>\n",
       "    </tr>\n",
       "    <tr>\n",
       "      <th>128</th>\n",
       "      <td>The first line contains a number T ( T  100)...</td>\n",
       "      <td>1458</td>\n",
       "    </tr>\n",
       "    <tr>\n",
       "      <th>3696</th>\n",
       "      <td>The input consists of multiple datasets, eac...</td>\n",
       "      <td>1488</td>\n",
       "    </tr>\n",
       "    <tr>\n",
       "      <th>2555</th>\n",
       "      <td>The input file contains one or more test cas...</td>\n",
       "      <td>1495</td>\n",
       "    </tr>\n",
       "    <tr>\n",
       "      <th>4956</th>\n",
       "      <td>The graph to be read comes in several lines:...</td>\n",
       "      <td>1498</td>\n",
       "    </tr>\n",
       "    <tr>\n",
       "      <th>3448</th>\n",
       "      <td>The input will consist of one to sixteen dat...</td>\n",
       "      <td>1502</td>\n",
       "    </tr>\n",
       "    <tr>\n",
       "      <th>1354</th>\n",
       "      <td>The first line of each test case contains tw...</td>\n",
       "      <td>1506</td>\n",
       "    </tr>\n",
       "    <tr>\n",
       "      <th>3121</th>\n",
       "      <td>Multiple test cases. Please process until EO...</td>\n",
       "      <td>1534</td>\n",
       "    </tr>\n",
       "    <tr>\n",
       "      <th>3693</th>\n",
       "      <td>The input consists of a number of datasets, ...</td>\n",
       "      <td>1544</td>\n",
       "    </tr>\n",
       "    <tr>\n",
       "      <th>2547</th>\n",
       "      <td>A Program which has the following format:  &lt;...</td>\n",
       "      <td>1618</td>\n",
       "    </tr>\n",
       "    <tr>\n",
       "      <th>1097</th>\n",
       "      <td>A Program which has the following format:  &lt;...</td>\n",
       "      <td>1625</td>\n",
       "    </tr>\n",
       "    <tr>\n",
       "      <th>2692</th>\n",
       "      <td>The input starts with a line containing a si...</td>\n",
       "      <td>1642</td>\n",
       "    </tr>\n",
       "    <tr>\n",
       "      <th>533</th>\n",
       "      <td>There is asingle positive integer T on the f...</td>\n",
       "      <td>1673</td>\n",
       "    </tr>\n",
       "    <tr>\n",
       "      <th>497</th>\n",
       "      <td>Input is a standard input which contains 3 p...</td>\n",
       "      <td>1683</td>\n",
       "    </tr>\n",
       "    <tr>\n",
       "      <th>4331</th>\n",
       "      <td>There is asingle positive integer T on the f...</td>\n",
       "      <td>1723</td>\n",
       "    </tr>\n",
       "    <tr>\n",
       "      <th>2994</th>\n",
       "      <td>First line, you have n&lt;100, the number of cu...</td>\n",
       "      <td>1729</td>\n",
       "    </tr>\n",
       "    <tr>\n",
       "      <th>3515</th>\n",
       "      <td>The input contains several test cases. The f...</td>\n",
       "      <td>1774</td>\n",
       "    </tr>\n",
       "    <tr>\n",
       "      <th>1224</th>\n",
       "      <td>The first line contains integers m , n , k (...</td>\n",
       "      <td>1887</td>\n",
       "    </tr>\n",
       "    <tr>\n",
       "      <th>2111</th>\n",
       "      <td>Computer networking requires that the comput...</td>\n",
       "      <td>1932</td>\n",
       "    </tr>\n",
       "    <tr>\n",
       "      <th>5079</th>\n",
       "      <td>The input consists of many dialogues.  There...</td>\n",
       "      <td>1933</td>\n",
       "    </tr>\n",
       "    <tr>\n",
       "      <th>3423</th>\n",
       "      <td>The input consists of a set of cities for wh...</td>\n",
       "      <td>1977</td>\n",
       "    </tr>\n",
       "    <tr>\n",
       "      <th>2493</th>\n",
       "      <td>Input starts with a positive integer t&lt;100, ...</td>\n",
       "      <td>2222</td>\n",
       "    </tr>\n",
       "    <tr>\n",
       "      <th>1653</th>\n",
       "      <td>The input consists of multiple datasets, eac...</td>\n",
       "      <td>2236</td>\n",
       "    </tr>\n",
       "    <tr>\n",
       "      <th>628</th>\n",
       "      <td>Each test case is described using several li...</td>\n",
       "      <td>2348</td>\n",
       "    </tr>\n",
       "    <tr>\n",
       "      <th>2492</th>\n",
       "      <td>Input starts with a positive integer t&lt;1000,...</td>\n",
       "      <td>2381</td>\n",
       "    </tr>\n",
       "    <tr>\n",
       "      <th>3922</th>\n",
       "      <td>Your program will be tested on one or more d...</td>\n",
       "      <td>2537</td>\n",
       "    </tr>\n",
       "    <tr>\n",
       "      <th>4904</th>\n",
       "      <td>There is asingle positive integer T on the f...</td>\n",
       "      <td>2651</td>\n",
       "    </tr>\n",
       "    <tr>\n",
       "      <th>2380</th>\n",
       "      <td>There will be several test cases in the in...</td>\n",
       "      <td>2780</td>\n",
       "    </tr>\n",
       "    <tr>\n",
       "      <th>296</th>\n",
       "      <td>The first line of the input contains an inte...</td>\n",
       "      <td>3209</td>\n",
       "    </tr>\n",
       "    <tr>\n",
       "      <th>2184</th>\n",
       "      <td>The input contains several pictures. Each pi...</td>\n",
       "      <td>3251</td>\n",
       "    </tr>\n",
       "    <tr>\n",
       "      <th>749</th>\n",
       "      <td>There is asingle positive integer T on the f...</td>\n",
       "      <td>3411</td>\n",
       "    </tr>\n",
       "  </tbody>\n",
       "</table>\n",
       "</div>"
      ],
      "text/plain": [
       "                                               outliers  out_len\n",
       "1780    The number of equations t is in the first li...     1426\n",
       "489     The input consists of multiple datasets, eac...     1426\n",
       "3845    The first line of the standard input contain...     1432\n",
       "3748    The first line of the input contains a singl...     1436\n",
       "868     The first line of the input contains a numbe...     1445\n",
       "3119    The first line of input contains two integer...     1446\n",
       "128     The first line contains a number T ( T  100)...     1458\n",
       "3696    The input consists of multiple datasets, eac...     1488\n",
       "2555    The input file contains one or more test cas...     1495\n",
       "4956    The graph to be read comes in several lines:...     1498\n",
       "3448    The input will consist of one to sixteen dat...     1502\n",
       "1354    The first line of each test case contains tw...     1506\n",
       "3121    Multiple test cases. Please process until EO...     1534\n",
       "3693    The input consists of a number of datasets, ...     1544\n",
       "2547    A Program which has the following format:  <...     1618\n",
       "1097    A Program which has the following format:  <...     1625\n",
       "2692    The input starts with a line containing a si...     1642\n",
       "533     There is asingle positive integer T on the f...     1673\n",
       "497     Input is a standard input which contains 3 p...     1683\n",
       "4331    There is asingle positive integer T on the f...     1723\n",
       "2994    First line, you have n<100, the number of cu...     1729\n",
       "3515    The input contains several test cases. The f...     1774\n",
       "1224    The first line contains integers m , n , k (...     1887\n",
       "2111    Computer networking requires that the comput...     1932\n",
       "5079    The input consists of many dialogues.  There...     1933\n",
       "3423    The input consists of a set of cities for wh...     1977\n",
       "2493    Input starts with a positive integer t<100, ...     2222\n",
       "1653    The input consists of multiple datasets, eac...     2236\n",
       "628     Each test case is described using several li...     2348\n",
       "2492    Input starts with a positive integer t<1000,...     2381\n",
       "3922    Your program will be tested on one or more d...     2537\n",
       "4904    There is asingle positive integer T on the f...     2651\n",
       "2380      There will be several test cases in the in...     2780\n",
       "296     The first line of the input contains an inte...     3209\n",
       "2184    The input contains several pictures. Each pi...     3251\n",
       "749     There is asingle positive integer T on the f...     3411"
      ]
     },
     "execution_count": 11,
     "metadata": {},
     "output_type": "execute_result"
    }
   ],
   "source": [
    "textual_histogram(table_A, \"input\", stdev=4)"
   ]
  },
  {
   "cell_type": "markdown",
   "metadata": {},
   "source": [
    "__output:__\n",
    "* The output attribute seems to follow an exponential distribution. There are a 13 instances that have title character lengths longer than 4 times the standard deviation for this attribute."
   ]
  },
  {
   "cell_type": "code",
   "execution_count": 12,
   "metadata": {
    "collapsed": false
   },
   "outputs": [
    {
     "data": {
      "image/png": "[encoded data removed]",
      "text/plain": [
       "<matplotlib.figure.Figure at 0x118a514d0>"
      ]
     },
     "metadata": {},
     "output_type": "display_data"
    },
    {
     "name": "stdout",
     "output_type": "stream",
     "text": [
      "There are 13 outliers outside of 4 standard     deviations of output.\n"
     ]
    },
    {
     "data": {
      "text/html": [
       "<div>\n",
       "<table border=\"1\" class=\"dataframe\">\n",
       "  <thead>\n",
       "    <tr style=\"text-align: right;\">\n",
       "      <th></th>\n",
       "      <th>outliers</th>\n",
       "      <th>out_len</th>\n",
       "    </tr>\n",
       "  </thead>\n",
       "  <tbody>\n",
       "    <tr>\n",
       "      <th>749</th>\n",
       "      <td>For each dialogue, your program must output ...</td>\n",
       "      <td>4778</td>\n",
       "    </tr>\n",
       "    <tr>\n",
       "      <th>668</th>\n",
       "      <td>For each input case you must print \"Scenario...</td>\n",
       "      <td>4887</td>\n",
       "    </tr>\n",
       "    <tr>\n",
       "      <th>1973</th>\n",
       "      <td>Your output should describe the strategy you...</td>\n",
       "      <td>5117</td>\n",
       "    </tr>\n",
       "    <tr>\n",
       "      <th>2485</th>\n",
       "      <td>For each game you have to print the sequence...</td>\n",
       "      <td>5291</td>\n",
       "    </tr>\n",
       "    <tr>\n",
       "      <th>2493</th>\n",
       "      <td>For every testcase you have to generate a co...</td>\n",
       "      <td>5453</td>\n",
       "    </tr>\n",
       "    <tr>\n",
       "      <th>1051</th>\n",
       "      <td>For each test case you must output a picture...</td>\n",
       "      <td>5833</td>\n",
       "    </tr>\n",
       "    <tr>\n",
       "      <th>1638</th>\n",
       "      <td>For each of the test cases output the reques...</td>\n",
       "      <td>6801</td>\n",
       "    </tr>\n",
       "    <tr>\n",
       "      <th>1642</th>\n",
       "      <td>For each of the test cases output the reques...</td>\n",
       "      <td>6801</td>\n",
       "    </tr>\n",
       "    <tr>\n",
       "      <th>1643</th>\n",
       "      <td>For each of the test cases output the reques...</td>\n",
       "      <td>6801</td>\n",
       "    </tr>\n",
       "    <tr>\n",
       "      <th>3024</th>\n",
       "      <td>Output the value of &lt;strong&gt;F(x)&lt;/strong&gt;  E...</td>\n",
       "      <td>8232</td>\n",
       "    </tr>\n",
       "    <tr>\n",
       "      <th>2538</th>\n",
       "      <td>Output a single integer, the largest total a...</td>\n",
       "      <td>8565</td>\n",
       "    </tr>\n",
       "    <tr>\n",
       "      <th>726</th>\n",
       "      <td>Print a number which is the number of ways i...</td>\n",
       "      <td>9039</td>\n",
       "    </tr>\n",
       "    <tr>\n",
       "      <th>2978</th>\n",
       "      <td>For each test output the recognized word in ...</td>\n",
       "      <td>63965</td>\n",
       "    </tr>\n",
       "  </tbody>\n",
       "</table>\n",
       "</div>"
      ],
      "text/plain": [
       "                                               outliers  out_len\n",
       "749     For each dialogue, your program must output ...     4778\n",
       "668     For each input case you must print \"Scenario...     4887\n",
       "1973    Your output should describe the strategy you...     5117\n",
       "2485    For each game you have to print the sequence...     5291\n",
       "2493    For every testcase you have to generate a co...     5453\n",
       "1051    For each test case you must output a picture...     5833\n",
       "1638    For each of the test cases output the reques...     6801\n",
       "1642    For each of the test cases output the reques...     6801\n",
       "1643    For each of the test cases output the reques...     6801\n",
       "3024    Output the value of <strong>F(x)</strong>  E...     8232\n",
       "2538    Output a single integer, the largest total a...     8565\n",
       "726     Print a number which is the number of ways i...     9039\n",
       "2978    For each test output the recognized word in ...    63965"
      ]
     },
     "execution_count": 12,
     "metadata": {},
     "output_type": "execute_result"
    }
   ],
   "source": [
    "textual_histogram(table_A, \"output\", stdev=4)"
   ]
  },
  {
   "cell_type": "markdown",
   "metadata": {},
   "source": [
    "__upper_time_limit:__\n",
    "* The upper_time_limit attribute seems to (sort of) follow an exponential distribution. There are a 45 instances that have title character lengths longer than 4 times the standard deviation for this attribute."
   ]
  },
  {
   "cell_type": "code",
   "execution_count": 13,
   "metadata": {
    "collapsed": false
   },
   "outputs": [
    {
     "data": {
      "image/png": "[encoded data removed]",
      "text/plain": [
       "<matplotlib.figure.Figure at 0x1194b2050>"
      ]
     },
     "metadata": {},
     "output_type": "display_data"
    },
    {
     "name": "stdout",
     "output_type": "stream",
     "text": [
      "There are 45 outliers outside of 4 standard     deviations of upper_time_limit.\n"
     ]
    },
    {
     "data": {
      "text/html": [
       "<div>\n",
       "<table border=\"1\" class=\"dataframe\">\n",
       "  <thead>\n",
       "    <tr style=\"text-align: right;\">\n",
       "      <th></th>\n",
       "      <th>outliers</th>\n",
       "    </tr>\n",
       "  </thead>\n",
       "  <tbody>\n",
       "    <tr>\n",
       "      <th>3200</th>\n",
       "      <td>32.00</td>\n",
       "    </tr>\n",
       "    <tr>\n",
       "      <th>3575</th>\n",
       "      <td>32.00</td>\n",
       "    </tr>\n",
       "    <tr>\n",
       "      <th>4082</th>\n",
       "      <td>32.12</td>\n",
       "    </tr>\n",
       "    <tr>\n",
       "      <th>35</th>\n",
       "      <td>34.61</td>\n",
       "    </tr>\n",
       "    <tr>\n",
       "      <th>2852</th>\n",
       "      <td>35.00</td>\n",
       "    </tr>\n",
       "    <tr>\n",
       "      <th>1494</th>\n",
       "      <td>36.00</td>\n",
       "    </tr>\n",
       "    <tr>\n",
       "      <th>4385</th>\n",
       "      <td>37.47</td>\n",
       "    </tr>\n",
       "    <tr>\n",
       "      <th>637</th>\n",
       "      <td>40.00</td>\n",
       "    </tr>\n",
       "    <tr>\n",
       "      <th>3586</th>\n",
       "      <td>40.00</td>\n",
       "    </tr>\n",
       "    <tr>\n",
       "      <th>721</th>\n",
       "      <td>44.00</td>\n",
       "    </tr>\n",
       "    <tr>\n",
       "      <th>1934</th>\n",
       "      <td>45.00</td>\n",
       "    </tr>\n",
       "    <tr>\n",
       "      <th>1691</th>\n",
       "      <td>50.00</td>\n",
       "    </tr>\n",
       "    <tr>\n",
       "      <th>2197</th>\n",
       "      <td>50.00</td>\n",
       "    </tr>\n",
       "    <tr>\n",
       "      <th>1788</th>\n",
       "      <td>50.00</td>\n",
       "    </tr>\n",
       "    <tr>\n",
       "      <th>641</th>\n",
       "      <td>50.00</td>\n",
       "    </tr>\n",
       "    <tr>\n",
       "      <th>1590</th>\n",
       "      <td>50.00</td>\n",
       "    </tr>\n",
       "    <tr>\n",
       "      <th>3585</th>\n",
       "      <td>50.00</td>\n",
       "    </tr>\n",
       "    <tr>\n",
       "      <th>1317</th>\n",
       "      <td>50.00</td>\n",
       "    </tr>\n",
       "    <tr>\n",
       "      <th>3604</th>\n",
       "      <td>50.00</td>\n",
       "    </tr>\n",
       "    <tr>\n",
       "      <th>4394</th>\n",
       "      <td>51.85</td>\n",
       "    </tr>\n",
       "    <tr>\n",
       "      <th>1508</th>\n",
       "      <td>60.00</td>\n",
       "    </tr>\n",
       "    <tr>\n",
       "      <th>1923</th>\n",
       "      <td>60.00</td>\n",
       "    </tr>\n",
       "    <tr>\n",
       "      <th>3725</th>\n",
       "      <td>60.00</td>\n",
       "    </tr>\n",
       "    <tr>\n",
       "      <th>1970</th>\n",
       "      <td>60.00</td>\n",
       "    </tr>\n",
       "    <tr>\n",
       "      <th>2000</th>\n",
       "      <td>60.00</td>\n",
       "    </tr>\n",
       "    <tr>\n",
       "      <th>1113</th>\n",
       "      <td>60.00</td>\n",
       "    </tr>\n",
       "    <tr>\n",
       "      <th>2281</th>\n",
       "      <td>60.00</td>\n",
       "    </tr>\n",
       "    <tr>\n",
       "      <th>2824</th>\n",
       "      <td>60.00</td>\n",
       "    </tr>\n",
       "    <tr>\n",
       "      <th>3802</th>\n",
       "      <td>60.00</td>\n",
       "    </tr>\n",
       "    <tr>\n",
       "      <th>2994</th>\n",
       "      <td>60.00</td>\n",
       "    </tr>\n",
       "    <tr>\n",
       "      <th>3115</th>\n",
       "      <td>60.00</td>\n",
       "    </tr>\n",
       "    <tr>\n",
       "      <th>707</th>\n",
       "      <td>60.00</td>\n",
       "    </tr>\n",
       "    <tr>\n",
       "      <th>1965</th>\n",
       "      <td>75.00</td>\n",
       "    </tr>\n",
       "    <tr>\n",
       "      <th>4387</th>\n",
       "      <td>85.17</td>\n",
       "    </tr>\n",
       "    <tr>\n",
       "      <th>4395</th>\n",
       "      <td>89.26</td>\n",
       "    </tr>\n",
       "    <tr>\n",
       "      <th>3120</th>\n",
       "      <td>90.00</td>\n",
       "    </tr>\n",
       "    <tr>\n",
       "      <th>1272</th>\n",
       "      <td>90.00</td>\n",
       "    </tr>\n",
       "    <tr>\n",
       "      <th>3121</th>\n",
       "      <td>90.00</td>\n",
       "    </tr>\n",
       "    <tr>\n",
       "      <th>1789</th>\n",
       "      <td>99.00</td>\n",
       "    </tr>\n",
       "    <tr>\n",
       "      <th>1290</th>\n",
       "      <td>100.00</td>\n",
       "    </tr>\n",
       "    <tr>\n",
       "      <th>1243</th>\n",
       "      <td>100.00</td>\n",
       "    </tr>\n",
       "    <tr>\n",
       "      <th>998</th>\n",
       "      <td>100.00</td>\n",
       "    </tr>\n",
       "    <tr>\n",
       "      <th>818</th>\n",
       "      <td>100.00</td>\n",
       "    </tr>\n",
       "    <tr>\n",
       "      <th>171</th>\n",
       "      <td>100.00</td>\n",
       "    </tr>\n",
       "    <tr>\n",
       "      <th>1555</th>\n",
       "      <td>120.00</td>\n",
       "    </tr>\n",
       "  </tbody>\n",
       "</table>\n",
       "</div>"
      ],
      "text/plain": [
       "      outliers\n",
       "3200     32.00\n",
       "3575     32.00\n",
       "4082     32.12\n",
       "35       34.61\n",
       "2852     35.00\n",
       "1494     36.00\n",
       "4385     37.47\n",
       "637      40.00\n",
       "3586     40.00\n",
       "721      44.00\n",
       "1934     45.00\n",
       "1691     50.00\n",
       "2197     50.00\n",
       "1788     50.00\n",
       "641      50.00\n",
       "1590     50.00\n",
       "3585     50.00\n",
       "1317     50.00\n",
       "3604     50.00\n",
       "4394     51.85\n",
       "1508     60.00\n",
       "1923     60.00\n",
       "3725     60.00\n",
       "1970     60.00\n",
       "2000     60.00\n",
       "1113     60.00\n",
       "2281     60.00\n",
       "2824     60.00\n",
       "3802     60.00\n",
       "2994     60.00\n",
       "3115     60.00\n",
       "707      60.00\n",
       "1965     75.00\n",
       "4387     85.17\n",
       "4395     89.26\n",
       "3120     90.00\n",
       "1272     90.00\n",
       "3121     90.00\n",
       "1789     99.00\n",
       "1290    100.00\n",
       "1243    100.00\n",
       "998     100.00\n",
       "818     100.00\n",
       "171     100.00\n",
       "1555    120.00"
      ]
     },
     "execution_count": 13,
     "metadata": {},
     "output_type": "execute_result"
    }
   ],
   "source": [
    "numeric_histogram(table_A, \"upper_time_limit\", \n",
    "                  range=[0,20], stdev=4)"
   ]
  },
  {
   "cell_type": "markdown",
   "metadata": {},
   "source": [
    "__accuracy:__\n",
    "* The accuracy attribute does not strictly follow any distributions but there seems to be a normal distribution around 30 with an additional increase as the values approach 100. There are no major outliers in this set."
   ]
  },
  {
   "cell_type": "code",
   "execution_count": 14,
   "metadata": {
    "collapsed": false
   },
   "outputs": [
    {
     "data": {
      "image/png": "[encoded data removed]",
      "text/plain": [
       "<matplotlib.figure.Figure at 0x1191dad50>"
      ]
     },
     "metadata": {},
     "output_type": "display_data"
    },
    {
     "name": "stdout",
     "output_type": "stream",
     "text": [
      "There are 0 outliers outside of 4 standard     deviations of accuracy.\n"
     ]
    },
    {
     "data": {
      "text/html": [
       "<div>\n",
       "<table border=\"1\" class=\"dataframe\">\n",
       "  <thead>\n",
       "    <tr style=\"text-align: right;\">\n",
       "      <th></th>\n",
       "      <th>outliers</th>\n",
       "    </tr>\n",
       "  </thead>\n",
       "  <tbody>\n",
       "  </tbody>\n",
       "</table>\n",
       "</div>"
      ],
      "text/plain": [
       "Empty DataFrame\n",
       "Columns: [outliers]\n",
       "Index: []"
      ]
     },
     "execution_count": 14,
     "metadata": {},
     "output_type": "execute_result"
    }
   ],
   "source": [
    "numeric_histogram(table_A, \"accuracy\", \n",
    "                  range=[0,100], stdev=4)"
   ]
  },
  {
   "cell_type": "markdown",
   "metadata": {},
   "source": [
    "__solved_by:__\n",
    "* The solved_by attribute seems to follow an exponential distribution. There are a 30 instances that have title character lengths longer than 4 times the standard deviation for this attribute."
   ]
  },
  {
   "cell_type": "code",
   "execution_count": 15,
   "metadata": {
    "collapsed": false
   },
   "outputs": [
    {
     "data": {
      "image/png": "[encoded data removed]",
      "text/plain": [
       "<matplotlib.figure.Figure at 0x11902c850>"
      ]
     },
     "metadata": {},
     "output_type": "display_data"
    },
    {
     "name": "stdout",
     "output_type": "stream",
     "text": [
      "There are 30 outliers outside of 4 standard     deviations of solved_by.\n"
     ]
    },
    {
     "data": {
      "text/html": [
       "<div>\n",
       "<table border=\"1\" class=\"dataframe\">\n",
       "  <thead>\n",
       "    <tr style=\"text-align: right;\">\n",
       "      <th></th>\n",
       "      <th>outliers</th>\n",
       "    </tr>\n",
       "  </thead>\n",
       "  <tbody>\n",
       "    <tr>\n",
       "      <th>3159</th>\n",
       "      <td>8340.0</td>\n",
       "    </tr>\n",
       "    <tr>\n",
       "      <th>3619</th>\n",
       "      <td>8472.0</td>\n",
       "    </tr>\n",
       "    <tr>\n",
       "      <th>3392</th>\n",
       "      <td>8751.0</td>\n",
       "    </tr>\n",
       "    <tr>\n",
       "      <th>3487</th>\n",
       "      <td>8797.0</td>\n",
       "    </tr>\n",
       "    <tr>\n",
       "      <th>5148</th>\n",
       "      <td>9103.0</td>\n",
       "    </tr>\n",
       "    <tr>\n",
       "      <th>3618</th>\n",
       "      <td>9144.0</td>\n",
       "    </tr>\n",
       "    <tr>\n",
       "      <th>2363</th>\n",
       "      <td>9164.0</td>\n",
       "    </tr>\n",
       "    <tr>\n",
       "      <th>4441</th>\n",
       "      <td>10047.0</td>\n",
       "    </tr>\n",
       "    <tr>\n",
       "      <th>3694</th>\n",
       "      <td>10101.0</td>\n",
       "    </tr>\n",
       "    <tr>\n",
       "      <th>4910</th>\n",
       "      <td>10274.0</td>\n",
       "    </tr>\n",
       "    <tr>\n",
       "      <th>3994</th>\n",
       "      <td>10324.0</td>\n",
       "    </tr>\n",
       "    <tr>\n",
       "      <th>542</th>\n",
       "      <td>10527.0</td>\n",
       "    </tr>\n",
       "    <tr>\n",
       "      <th>88</th>\n",
       "      <td>10717.0</td>\n",
       "    </tr>\n",
       "    <tr>\n",
       "      <th>2337</th>\n",
       "      <td>11839.0</td>\n",
       "    </tr>\n",
       "    <tr>\n",
       "      <th>3530</th>\n",
       "      <td>12338.0</td>\n",
       "    </tr>\n",
       "    <tr>\n",
       "      <th>4077</th>\n",
       "      <td>12675.0</td>\n",
       "    </tr>\n",
       "    <tr>\n",
       "      <th>3839</th>\n",
       "      <td>13058.0</td>\n",
       "    </tr>\n",
       "    <tr>\n",
       "      <th>3523</th>\n",
       "      <td>13227.0</td>\n",
       "    </tr>\n",
       "    <tr>\n",
       "      <th>74</th>\n",
       "      <td>14462.0</td>\n",
       "    </tr>\n",
       "    <tr>\n",
       "      <th>3729</th>\n",
       "      <td>14603.0</td>\n",
       "    </tr>\n",
       "    <tr>\n",
       "      <th>2285</th>\n",
       "      <td>15001.0</td>\n",
       "    </tr>\n",
       "    <tr>\n",
       "      <th>4602</th>\n",
       "      <td>16073.0</td>\n",
       "    </tr>\n",
       "    <tr>\n",
       "      <th>3511</th>\n",
       "      <td>17680.0</td>\n",
       "    </tr>\n",
       "    <tr>\n",
       "      <th>308</th>\n",
       "      <td>17870.0</td>\n",
       "    </tr>\n",
       "    <tr>\n",
       "      <th>3727</th>\n",
       "      <td>20560.0</td>\n",
       "    </tr>\n",
       "    <tr>\n",
       "      <th>2691</th>\n",
       "      <td>24072.0</td>\n",
       "    </tr>\n",
       "    <tr>\n",
       "      <th>279</th>\n",
       "      <td>29322.0</td>\n",
       "    </tr>\n",
       "    <tr>\n",
       "      <th>2123</th>\n",
       "      <td>31347.0</td>\n",
       "    </tr>\n",
       "    <tr>\n",
       "      <th>3811</th>\n",
       "      <td>35277.0</td>\n",
       "    </tr>\n",
       "    <tr>\n",
       "      <th>0</th>\n",
       "      <td>100118.0</td>\n",
       "    </tr>\n",
       "  </tbody>\n",
       "</table>\n",
       "</div>"
      ],
      "text/plain": [
       "      outliers\n",
       "3159    8340.0\n",
       "3619    8472.0\n",
       "3392    8751.0\n",
       "3487    8797.0\n",
       "5148    9103.0\n",
       "3618    9144.0\n",
       "2363    9164.0\n",
       "4441   10047.0\n",
       "3694   10101.0\n",
       "4910   10274.0\n",
       "3994   10324.0\n",
       "542    10527.0\n",
       "88     10717.0\n",
       "2337   11839.0\n",
       "3530   12338.0\n",
       "4077   12675.0\n",
       "3839   13058.0\n",
       "3523   13227.0\n",
       "74     14462.0\n",
       "3729   14603.0\n",
       "2285   15001.0\n",
       "4602   16073.0\n",
       "3511   17680.0\n",
       "308    17870.0\n",
       "3727   20560.0\n",
       "2691   24072.0\n",
       "279    29322.0\n",
       "2123   31347.0\n",
       "3811   35277.0\n",
       "0     100118.0"
      ]
     },
     "execution_count": 15,
     "metadata": {},
     "output_type": "execute_result"
    }
   ],
   "source": [
    "numeric_histogram(table_A, \"solved_by\", range=[0, 1000], stdev=4)"
   ]
  },
  {
   "cell_type": "markdown",
   "metadata": {},
   "source": [
    "__tags:__\n",
    "* For the tags attribute, tags 1, 4, 7, 16, 6, & 10 appear to be relative outliers as they are tagged in the most problems with a drop off of at least 20 between each of these and the next most common tag. "
   ]
  },
  {
   "cell_type": "code",
   "execution_count": 16,
   "metadata": {
    "collapsed": false
   },
   "outputs": [
    {
     "data": {
      "image/png": "[encoded data removed]",
      "text/plain": [
       "<matplotlib.figure.Figure at 0x1191da210>"
      ]
     },
     "metadata": {},
     "output_type": "display_data"
    }
   ],
   "source": [
    "def all_tag_counts(table):\n",
    "    try:\n",
    "        return table[\"tags\"].split(\",\")\n",
    "    except:\n",
    "        pass\n",
    "    \n",
    "tag_list = []\n",
    "\n",
    "for instance in table_A.apply(all_tag_counts, axis=1):\n",
    "    if instance != None:\n",
    "        for tag in instance:\n",
    "            tag_list.append(tag)\n",
    "    else:\n",
    "        pass\n",
    "\n",
    "tag_list = pd.Series(tag_list)\n",
    "\n",
    "tag_list.value_counts()[:30].plot(kind='bar')\n",
    "plt.title(\"Top 10 Most Common Tags\")\n",
    "plt.show()"
   ]
  },
  {
   "cell_type": "markdown",
   "metadata": {},
   "source": [
    "__difficulty:__\n",
    "* The difficulty attribute does not seem to follow a strict distribution but since it all values range from 0 to 100, we would not consider any values outliers for this attribute"
   ]
  },
  {
   "cell_type": "code",
   "execution_count": 17,
   "metadata": {
    "collapsed": false
   },
   "outputs": [
    {
     "data": {
      "image/png": "[encoded data removed]",
      "text/plain": [
       "<matplotlib.figure.Figure at 0x118edbd10>"
      ]
     },
     "metadata": {},
     "output_type": "display_data"
    },
    {
     "name": "stdout",
     "output_type": "stream",
     "text": [
      "There are 0 outliers outside of 4 standard     deviations of difficulty.\n"
     ]
    },
    {
     "data": {
      "text/html": [
       "<div>\n",
       "<table border=\"1\" class=\"dataframe\">\n",
       "  <thead>\n",
       "    <tr style=\"text-align: right;\">\n",
       "      <th></th>\n",
       "      <th>outliers</th>\n",
       "    </tr>\n",
       "  </thead>\n",
       "  <tbody>\n",
       "  </tbody>\n",
       "</table>\n",
       "</div>"
      ],
      "text/plain": [
       "Empty DataFrame\n",
       "Columns: [outliers]\n",
       "Index: []"
      ]
     },
     "execution_count": 17,
     "metadata": {},
     "output_type": "execute_result"
    }
   ],
   "source": [
    "numeric_histogram(table_A, \"difficulty\", \n",
    "                  range=[0,100], stdev=4)"
   ]
  },
  {
   "cell_type": "markdown",
   "metadata": {},
   "source": [
    "# Step 6: Format Standardization\n",
    "* __title:__ All values are textual. This is also the problem's unique identifier, so we must be sure that none of these are the same (they are all unique).\n",
    "* __added_by:__ There are no specific criteria with this attribute.\n",
    "* __description, input, & output:__ These attributes are free-form text so there are no major formatting concerns other than that the input and output should not be included in the description. If they are, the description must be parsed to move the input and output to their respectives attribute locations.\n",
    "* __upper_time_limit:__ All values in this are numeric, so there are no concerns with this attribute's format.\n",
    "* __accuracy:__ All values in this are numeric, so there are no concerns with this attribute's format.\n",
    "* __solved_by:__ All values in this are numeric, so there are no concerns with this attribute's format.\n",
    "* __tags:__ Many instances have no associated tags, but those that do may have more than one so this attribute is technically a list of categories. As a result, we must be able to parse this during matching and analysis.\n",
    "* __difficulty:__ All values in this are numeric, so there are no concerns with this attribute's format."
   ]
  },
  {
   "cell_type": "markdown",
   "metadata": {},
   "source": [
    "# Step 7: Synomyms\n",
    "* The only attribute that may contain synomyms is the __tags__ attribute where multiple tags could essentially have the same meaning. We will have to investigate this before preforming any matching or analysis tasks."
   ]
  },
  {
   "cell_type": "markdown",
   "metadata": {},
   "source": [
    "# Step 8: Sprinkled Values\n",
    "* The most notable area of concern related to sprinkled values appears between the __description__, __input__, and __output__ attributes. As previously stated, the description often contains the values that should be listed under the input and output attributes, so we will have to parse these attributes out before preforming any matching or analysis tasks."
   ]
  },
  {
   "cell_type": "markdown",
   "metadata": {},
   "source": [
    "# Step 9: Other Data Quality Concerns\n",
    "* At this point, we do not have any other major data quality concerns. "
   ]
  }
 ],
 "metadata": {
  "anaconda-cloud": {},
  "kernelspec": {
   "display_name": "Python [default]",
   "language": "python",
   "name": "python2"
  },
  "language_info": {
   "codemirror_mode": {
    "name": "ipython",
    "version": 2
   },
   "file_extension": ".py",
   "mimetype": "text/x-python",
   "name": "python",
   "nbconvert_exporter": "python",
   "pygments_lexer": "ipython2",
   "version": "2.7.12"
  }
 },
 "nbformat": 4,
 "nbformat_minor": 1
}
